{
  "nbformat": 4,
  "nbformat_minor": 0,
  "metadata": {
    "colab": {
      "name": "airplane.ipynb",
      "provenance": [],
      "collapsed_sections": []
    },
    "kernelspec": {
      "name": "python3",
      "display_name": "Python 3"
    }
  },
  "cells": [
    {
      "cell_type": "code",
      "metadata": {
        "id": "qj1A-IrUQyn_",
        "colab_type": "code",
        "colab": {}
      },
      "source": [
        "import pandas as pd\n",
        "import matplotlib.pyplot as plt\n",
        "import sklearn\n",
        "%matplotlib inline\n",
        "import seaborn as sns\n",
        "import numpy as np\n",
        "# import tensorflow as tf\n",
        "from sklearn import metrics   #Additional scklearn functions\n",
        "from sklearn.model_selection import GridSearchCV \n",
        "\n",
        "# from keras.models import Sequential \n",
        "# from keras.layers import Dense \n",
        "# from keras.utils import np_utils\n",
        "# from sklearn.preprocessing import LabelEncoder\n",
        "# from keras.utils.np_utils import to_categorical\n",
        "# from sklearn.utils import shuffle"
      ],
      "execution_count": 0,
      "outputs": []
    },
    {
      "cell_type": "code",
      "metadata": {
        "id": "5RI18EFBRvHz",
        "colab_type": "code",
        "colab": {}
      },
      "source": [
        "df = pd.read_csv('/content/drive/My Drive/airplane/train.csv')\n",
        "test = pd.read_csv('/content/drive/My Drive/airplane/test.csv')\n",
        "sample = pd.read_csv('/content/drive/My Drive/airplane/sample_submission.csv')"
      ],
      "execution_count": 0,
      "outputs": []
    },
    {
      "cell_type": "code",
      "metadata": {
        "id": "sh_C8VVYSER7",
        "colab_type": "code",
        "outputId": "fa276dff-a118-4ea5-99ef-bb6acea3994d",
        "colab": {
          "base_uri": "https://localhost:8080/",
          "height": 226
        }
      },
      "source": [
        "df.head()"
      ],
      "execution_count": 0,
      "outputs": [
        {
          "output_type": "execute_result",
          "data": {
            "text/html": [
              "<div>\n",
              "<style scoped>\n",
              "    .dataframe tbody tr th:only-of-type {\n",
              "        vertical-align: middle;\n",
              "    }\n",
              "\n",
              "    .dataframe tbody tr th {\n",
              "        vertical-align: top;\n",
              "    }\n",
              "\n",
              "    .dataframe thead th {\n",
              "        text-align: right;\n",
              "    }\n",
              "</style>\n",
              "<table border=\"1\" class=\"dataframe\">\n",
              "  <thead>\n",
              "    <tr style=\"text-align: right;\">\n",
              "      <th></th>\n",
              "      <th>Severity</th>\n",
              "      <th>Safety_Score</th>\n",
              "      <th>Days_Since_Inspection</th>\n",
              "      <th>Total_Safety_Complaints</th>\n",
              "      <th>Control_Metric</th>\n",
              "      <th>Turbulence_In_gforces</th>\n",
              "      <th>Cabin_Temperature</th>\n",
              "      <th>Accident_Type_Code</th>\n",
              "      <th>Max_Elevation</th>\n",
              "      <th>Violations</th>\n",
              "      <th>Adverse_Weather_Metric</th>\n",
              "      <th>Accident_ID</th>\n",
              "    </tr>\n",
              "  </thead>\n",
              "  <tbody>\n",
              "    <tr>\n",
              "      <th>0</th>\n",
              "      <td>Minor_Damage_And_Injuries</td>\n",
              "      <td>49.223744</td>\n",
              "      <td>14</td>\n",
              "      <td>22</td>\n",
              "      <td>71.285324</td>\n",
              "      <td>0.272118</td>\n",
              "      <td>78.04</td>\n",
              "      <td>2</td>\n",
              "      <td>31335.476824</td>\n",
              "      <td>3</td>\n",
              "      <td>0.424352</td>\n",
              "      <td>7570</td>\n",
              "    </tr>\n",
              "    <tr>\n",
              "      <th>1</th>\n",
              "      <td>Minor_Damage_And_Injuries</td>\n",
              "      <td>62.465753</td>\n",
              "      <td>10</td>\n",
              "      <td>27</td>\n",
              "      <td>72.288058</td>\n",
              "      <td>0.423939</td>\n",
              "      <td>84.54</td>\n",
              "      <td>2</td>\n",
              "      <td>26024.711057</td>\n",
              "      <td>2</td>\n",
              "      <td>0.352350</td>\n",
              "      <td>12128</td>\n",
              "    </tr>\n",
              "    <tr>\n",
              "      <th>2</th>\n",
              "      <td>Significant_Damage_And_Fatalities</td>\n",
              "      <td>63.059361</td>\n",
              "      <td>13</td>\n",
              "      <td>16</td>\n",
              "      <td>66.362808</td>\n",
              "      <td>0.322604</td>\n",
              "      <td>78.86</td>\n",
              "      <td>7</td>\n",
              "      <td>39269.053927</td>\n",
              "      <td>3</td>\n",
              "      <td>0.003364</td>\n",
              "      <td>2181</td>\n",
              "    </tr>\n",
              "    <tr>\n",
              "      <th>3</th>\n",
              "      <td>Significant_Damage_And_Serious_Injuries</td>\n",
              "      <td>48.082192</td>\n",
              "      <td>11</td>\n",
              "      <td>9</td>\n",
              "      <td>74.703737</td>\n",
              "      <td>0.337029</td>\n",
              "      <td>81.79</td>\n",
              "      <td>3</td>\n",
              "      <td>42771.499200</td>\n",
              "      <td>1</td>\n",
              "      <td>0.211728</td>\n",
              "      <td>5946</td>\n",
              "    </tr>\n",
              "    <tr>\n",
              "      <th>4</th>\n",
              "      <td>Significant_Damage_And_Fatalities</td>\n",
              "      <td>26.484018</td>\n",
              "      <td>13</td>\n",
              "      <td>25</td>\n",
              "      <td>47.948952</td>\n",
              "      <td>0.541140</td>\n",
              "      <td>77.16</td>\n",
              "      <td>3</td>\n",
              "      <td>35509.228515</td>\n",
              "      <td>2</td>\n",
              "      <td>0.176883</td>\n",
              "      <td>9054</td>\n",
              "    </tr>\n",
              "  </tbody>\n",
              "</table>\n",
              "</div>"
            ],
            "text/plain": [
              "                                  Severity  ...  Accident_ID\n",
              "0                Minor_Damage_And_Injuries  ...         7570\n",
              "1                Minor_Damage_And_Injuries  ...        12128\n",
              "2        Significant_Damage_And_Fatalities  ...         2181\n",
              "3  Significant_Damage_And_Serious_Injuries  ...         5946\n",
              "4        Significant_Damage_And_Fatalities  ...         9054\n",
              "\n",
              "[5 rows x 12 columns]"
            ]
          },
          "metadata": {
            "tags": []
          },
          "execution_count": 89
        }
      ]
    },
    {
      "cell_type": "code",
      "metadata": {
        "id": "Rb_reMrKSGQs",
        "colab_type": "code",
        "outputId": "61281308-0cb6-4f68-e596-2f8b79f831f8",
        "colab": {
          "base_uri": "https://localhost:8080/",
          "height": 104
        }
      },
      "source": [
        "df.Severity.value_counts()"
      ],
      "execution_count": 0,
      "outputs": [
        {
          "output_type": "execute_result",
          "data": {
            "text/plain": [
              "Highly_Fatal_And_Damaging                  3049\n",
              "Significant_Damage_And_Serious_Injuries    2729\n",
              "Minor_Damage_And_Injuries                  2527\n",
              "Significant_Damage_And_Fatalities          1695\n",
              "Name: Severity, dtype: int64"
            ]
          },
          "metadata": {
            "tags": []
          },
          "execution_count": 90
        }
      ]
    },
    {
      "cell_type": "markdown",
      "metadata": {
        "id": "0iHWBk-aEFhW",
        "colab_type": "text"
      },
      "source": [
        ""
      ]
    },
    {
      "cell_type": "code",
      "metadata": {
        "id": "P3qqLhTVSQW9",
        "colab_type": "code",
        "outputId": "96bd23cd-246a-4d03-9522-143703952a68",
        "colab": {
          "base_uri": "https://localhost:8080/",
          "height": 156
        }
      },
      "source": [
        "df.Accident_Type_Code.value_counts()"
      ],
      "execution_count": 0,
      "outputs": [
        {
          "output_type": "execute_result",
          "data": {
            "text/plain": [
              "4    2057\n",
              "2    1791\n",
              "3    1752\n",
              "7    1276\n",
              "6    1215\n",
              "1    1171\n",
              "5     738\n",
              "Name: Accident_Type_Code, dtype: int64"
            ]
          },
          "metadata": {
            "tags": []
          },
          "execution_count": 91
        }
      ]
    },
    {
      "cell_type": "code",
      "metadata": {
        "id": "cokrSyI6Stck",
        "colab_type": "code",
        "outputId": "e33895d6-8930-4aaa-85d1-a0b6618f5279",
        "colab": {
          "base_uri": "https://localhost:8080/",
          "height": 243
        }
      },
      "source": [
        "df.isna().any()"
      ],
      "execution_count": 0,
      "outputs": [
        {
          "output_type": "execute_result",
          "data": {
            "text/plain": [
              "Severity                   False\n",
              "Safety_Score               False\n",
              "Days_Since_Inspection      False\n",
              "Total_Safety_Complaints    False\n",
              "Control_Metric             False\n",
              "Turbulence_In_gforces      False\n",
              "Cabin_Temperature          False\n",
              "Accident_Type_Code         False\n",
              "Max_Elevation              False\n",
              "Violations                 False\n",
              "Adverse_Weather_Metric     False\n",
              "Accident_ID                False\n",
              "dtype: bool"
            ]
          },
          "metadata": {
            "tags": []
          },
          "execution_count": 92
        }
      ]
    },
    {
      "cell_type": "code",
      "metadata": {
        "id": "ppHjlByXSzGB",
        "colab_type": "code",
        "colab": {}
      },
      "source": [
        "target = df['Accident_ID']\n"
      ],
      "execution_count": 0,
      "outputs": []
    },
    {
      "cell_type": "code",
      "metadata": {
        "id": "A9414FWfDuT3",
        "colab_type": "code",
        "colab": {}
      },
      "source": [
        "df.drop(['Accident_ID'],inplace=True,axis=1)"
      ],
      "execution_count": 0,
      "outputs": []
    },
    {
      "cell_type": "code",
      "metadata": {
        "id": "1nsmoos6D38D",
        "colab_type": "code",
        "colab": {}
      },
      "source": [
        "accids=target\n",
        "\n",
        "target = df['Severity']\n",
        "df.drop(['Severity'],axis=1,inplace=True)"
      ],
      "execution_count": 0,
      "outputs": []
    },
    {
      "cell_type": "code",
      "metadata": {
        "id": "uADxNvG4EYp_",
        "colab_type": "code",
        "colab": {}
      },
      "source": [
        "from sklearn.preprocessing import LabelEncoder"
      ],
      "execution_count": 0,
      "outputs": []
    },
    {
      "cell_type": "code",
      "metadata": {
        "id": "AZ1-orUnFcUN",
        "colab_type": "code",
        "colab": {}
      },
      "source": [
        "le = LabelEncoder()"
      ],
      "execution_count": 0,
      "outputs": []
    },
    {
      "cell_type": "code",
      "metadata": {
        "id": "48wPu-ZMGXC2",
        "colab_type": "code",
        "colab": {}
      },
      "source": [
        "target = le.fit_transform(target)"
      ],
      "execution_count": 0,
      "outputs": []
    },
    {
      "cell_type": "code",
      "metadata": {
        "id": "5x9utX2rGahf",
        "colab_type": "code",
        "outputId": "be5e25c4-1d29-4a0c-c354-490ca7ee677f",
        "colab": {
          "base_uri": "https://localhost:8080/",
          "height": 34
        }
      },
      "source": [
        "target"
      ],
      "execution_count": 0,
      "outputs": [
        {
          "output_type": "execute_result",
          "data": {
            "text/plain": [
              "array([1, 1, 2, ..., 3, 1, 0])"
            ]
          },
          "metadata": {
            "tags": []
          },
          "execution_count": 99
        }
      ]
    },
    {
      "cell_type": "code",
      "metadata": {
        "id": "5rkfJaOeGbuT",
        "colab_type": "code",
        "outputId": "c62756de-c9b0-4780-d045-c8b017fdf275",
        "colab": {
          "base_uri": "https://localhost:8080/",
          "height": 226
        }
      },
      "source": [
        "df.head()"
      ],
      "execution_count": 0,
      "outputs": [
        {
          "output_type": "execute_result",
          "data": {
            "text/html": [
              "<div>\n",
              "<style scoped>\n",
              "    .dataframe tbody tr th:only-of-type {\n",
              "        vertical-align: middle;\n",
              "    }\n",
              "\n",
              "    .dataframe tbody tr th {\n",
              "        vertical-align: top;\n",
              "    }\n",
              "\n",
              "    .dataframe thead th {\n",
              "        text-align: right;\n",
              "    }\n",
              "</style>\n",
              "<table border=\"1\" class=\"dataframe\">\n",
              "  <thead>\n",
              "    <tr style=\"text-align: right;\">\n",
              "      <th></th>\n",
              "      <th>Safety_Score</th>\n",
              "      <th>Days_Since_Inspection</th>\n",
              "      <th>Total_Safety_Complaints</th>\n",
              "      <th>Control_Metric</th>\n",
              "      <th>Turbulence_In_gforces</th>\n",
              "      <th>Cabin_Temperature</th>\n",
              "      <th>Accident_Type_Code</th>\n",
              "      <th>Max_Elevation</th>\n",
              "      <th>Violations</th>\n",
              "      <th>Adverse_Weather_Metric</th>\n",
              "    </tr>\n",
              "  </thead>\n",
              "  <tbody>\n",
              "    <tr>\n",
              "      <th>0</th>\n",
              "      <td>49.223744</td>\n",
              "      <td>14</td>\n",
              "      <td>22</td>\n",
              "      <td>71.285324</td>\n",
              "      <td>0.272118</td>\n",
              "      <td>78.04</td>\n",
              "      <td>2</td>\n",
              "      <td>31335.476824</td>\n",
              "      <td>3</td>\n",
              "      <td>0.424352</td>\n",
              "    </tr>\n",
              "    <tr>\n",
              "      <th>1</th>\n",
              "      <td>62.465753</td>\n",
              "      <td>10</td>\n",
              "      <td>27</td>\n",
              "      <td>72.288058</td>\n",
              "      <td>0.423939</td>\n",
              "      <td>84.54</td>\n",
              "      <td>2</td>\n",
              "      <td>26024.711057</td>\n",
              "      <td>2</td>\n",
              "      <td>0.352350</td>\n",
              "    </tr>\n",
              "    <tr>\n",
              "      <th>2</th>\n",
              "      <td>63.059361</td>\n",
              "      <td>13</td>\n",
              "      <td>16</td>\n",
              "      <td>66.362808</td>\n",
              "      <td>0.322604</td>\n",
              "      <td>78.86</td>\n",
              "      <td>7</td>\n",
              "      <td>39269.053927</td>\n",
              "      <td>3</td>\n",
              "      <td>0.003364</td>\n",
              "    </tr>\n",
              "    <tr>\n",
              "      <th>3</th>\n",
              "      <td>48.082192</td>\n",
              "      <td>11</td>\n",
              "      <td>9</td>\n",
              "      <td>74.703737</td>\n",
              "      <td>0.337029</td>\n",
              "      <td>81.79</td>\n",
              "      <td>3</td>\n",
              "      <td>42771.499200</td>\n",
              "      <td>1</td>\n",
              "      <td>0.211728</td>\n",
              "    </tr>\n",
              "    <tr>\n",
              "      <th>4</th>\n",
              "      <td>26.484018</td>\n",
              "      <td>13</td>\n",
              "      <td>25</td>\n",
              "      <td>47.948952</td>\n",
              "      <td>0.541140</td>\n",
              "      <td>77.16</td>\n",
              "      <td>3</td>\n",
              "      <td>35509.228515</td>\n",
              "      <td>2</td>\n",
              "      <td>0.176883</td>\n",
              "    </tr>\n",
              "  </tbody>\n",
              "</table>\n",
              "</div>"
            ],
            "text/plain": [
              "   Safety_Score  Days_Since_Inspection  ...  Violations  Adverse_Weather_Metric\n",
              "0     49.223744                     14  ...           3                0.424352\n",
              "1     62.465753                     10  ...           2                0.352350\n",
              "2     63.059361                     13  ...           3                0.003364\n",
              "3     48.082192                     11  ...           1                0.211728\n",
              "4     26.484018                     13  ...           2                0.176883\n",
              "\n",
              "[5 rows x 10 columns]"
            ]
          },
          "metadata": {
            "tags": []
          },
          "execution_count": 100
        }
      ]
    },
    {
      "cell_type": "code",
      "metadata": {
        "id": "gWaPq_KSGinw",
        "colab_type": "code",
        "outputId": "4c145614-bf7b-4fdf-c6ae-43a044bab0d9",
        "colab": {
          "base_uri": "https://localhost:8080/",
          "height": 104
        }
      },
      "source": [
        "df.columns"
      ],
      "execution_count": 0,
      "outputs": [
        {
          "output_type": "execute_result",
          "data": {
            "text/plain": [
              "Index(['Safety_Score', 'Days_Since_Inspection', 'Total_Safety_Complaints',\n",
              "       'Control_Metric', 'Turbulence_In_gforces', 'Cabin_Temperature',\n",
              "       'Accident_Type_Code', 'Max_Elevation', 'Violations',\n",
              "       'Adverse_Weather_Metric'],\n",
              "      dtype='object')"
            ]
          },
          "metadata": {
            "tags": []
          },
          "execution_count": 101
        }
      ]
    },
    {
      "cell_type": "code",
      "metadata": {
        "id": "dkUI_vjTGmnT",
        "colab_type": "code",
        "outputId": "355aafe3-6b26-46f1-cc2e-c5a6f4254336",
        "colab": {
          "base_uri": "https://localhost:8080/",
          "height": 208
        }
      },
      "source": [
        "\n",
        "df.dtypes"
      ],
      "execution_count": 0,
      "outputs": [
        {
          "output_type": "execute_result",
          "data": {
            "text/plain": [
              "Safety_Score               float64\n",
              "Days_Since_Inspection        int64\n",
              "Total_Safety_Complaints      int64\n",
              "Control_Metric             float64\n",
              "Turbulence_In_gforces      float64\n",
              "Cabin_Temperature          float64\n",
              "Accident_Type_Code           int64\n",
              "Max_Elevation              float64\n",
              "Violations                   int64\n",
              "Adverse_Weather_Metric     float64\n",
              "dtype: object"
            ]
          },
          "metadata": {
            "tags": []
          },
          "execution_count": 102
        }
      ]
    },
    {
      "cell_type": "code",
      "metadata": {
        "id": "l4KYTmo3GqM8",
        "colab_type": "code",
        "colab": {}
      },
      "source": [
        "df['Severity'] = target\n",
        "df.drop(['Severity'],axis=1,inplace=True)"
      ],
      "execution_count": 0,
      "outputs": []
    },
    {
      "cell_type": "code",
      "metadata": {
        "id": "K5Kpfla-k43l",
        "colab_type": "code",
        "colab": {}
      },
      "source": [
        ""
      ],
      "execution_count": 0,
      "outputs": []
    },
    {
      "cell_type": "code",
      "metadata": {
        "id": "nUU-QVmJHBOb",
        "colab_type": "code",
        "outputId": "44ec9222-11d2-4232-ee1f-16b6051aba40",
        "colab": {
          "base_uri": "https://localhost:8080/",
          "height": 226
        }
      },
      "source": [
        "df.head()"
      ],
      "execution_count": 0,
      "outputs": [
        {
          "output_type": "execute_result",
          "data": {
            "text/html": [
              "<div>\n",
              "<style scoped>\n",
              "    .dataframe tbody tr th:only-of-type {\n",
              "        vertical-align: middle;\n",
              "    }\n",
              "\n",
              "    .dataframe tbody tr th {\n",
              "        vertical-align: top;\n",
              "    }\n",
              "\n",
              "    .dataframe thead th {\n",
              "        text-align: right;\n",
              "    }\n",
              "</style>\n",
              "<table border=\"1\" class=\"dataframe\">\n",
              "  <thead>\n",
              "    <tr style=\"text-align: right;\">\n",
              "      <th></th>\n",
              "      <th>Safety_Score</th>\n",
              "      <th>Days_Since_Inspection</th>\n",
              "      <th>Total_Safety_Complaints</th>\n",
              "      <th>Control_Metric</th>\n",
              "      <th>Turbulence_In_gforces</th>\n",
              "      <th>Cabin_Temperature</th>\n",
              "      <th>Accident_Type_Code</th>\n",
              "      <th>Max_Elevation</th>\n",
              "      <th>Violations</th>\n",
              "      <th>Adverse_Weather_Metric</th>\n",
              "    </tr>\n",
              "  </thead>\n",
              "  <tbody>\n",
              "    <tr>\n",
              "      <th>0</th>\n",
              "      <td>49.223744</td>\n",
              "      <td>14</td>\n",
              "      <td>22</td>\n",
              "      <td>71.285324</td>\n",
              "      <td>0.272118</td>\n",
              "      <td>78.04</td>\n",
              "      <td>2</td>\n",
              "      <td>31335.476824</td>\n",
              "      <td>3</td>\n",
              "      <td>0.424352</td>\n",
              "    </tr>\n",
              "    <tr>\n",
              "      <th>1</th>\n",
              "      <td>62.465753</td>\n",
              "      <td>10</td>\n",
              "      <td>27</td>\n",
              "      <td>72.288058</td>\n",
              "      <td>0.423939</td>\n",
              "      <td>84.54</td>\n",
              "      <td>2</td>\n",
              "      <td>26024.711057</td>\n",
              "      <td>2</td>\n",
              "      <td>0.352350</td>\n",
              "    </tr>\n",
              "    <tr>\n",
              "      <th>2</th>\n",
              "      <td>63.059361</td>\n",
              "      <td>13</td>\n",
              "      <td>16</td>\n",
              "      <td>66.362808</td>\n",
              "      <td>0.322604</td>\n",
              "      <td>78.86</td>\n",
              "      <td>7</td>\n",
              "      <td>39269.053927</td>\n",
              "      <td>3</td>\n",
              "      <td>0.003364</td>\n",
              "    </tr>\n",
              "    <tr>\n",
              "      <th>3</th>\n",
              "      <td>48.082192</td>\n",
              "      <td>11</td>\n",
              "      <td>9</td>\n",
              "      <td>74.703737</td>\n",
              "      <td>0.337029</td>\n",
              "      <td>81.79</td>\n",
              "      <td>3</td>\n",
              "      <td>42771.499200</td>\n",
              "      <td>1</td>\n",
              "      <td>0.211728</td>\n",
              "    </tr>\n",
              "    <tr>\n",
              "      <th>4</th>\n",
              "      <td>26.484018</td>\n",
              "      <td>13</td>\n",
              "      <td>25</td>\n",
              "      <td>47.948952</td>\n",
              "      <td>0.541140</td>\n",
              "      <td>77.16</td>\n",
              "      <td>3</td>\n",
              "      <td>35509.228515</td>\n",
              "      <td>2</td>\n",
              "      <td>0.176883</td>\n",
              "    </tr>\n",
              "  </tbody>\n",
              "</table>\n",
              "</div>"
            ],
            "text/plain": [
              "   Safety_Score  Days_Since_Inspection  ...  Violations  Adverse_Weather_Metric\n",
              "0     49.223744                     14  ...           3                0.424352\n",
              "1     62.465753                     10  ...           2                0.352350\n",
              "2     63.059361                     13  ...           3                0.003364\n",
              "3     48.082192                     11  ...           1                0.211728\n",
              "4     26.484018                     13  ...           2                0.176883\n",
              "\n",
              "[5 rows x 10 columns]"
            ]
          },
          "metadata": {
            "tags": []
          },
          "execution_count": 104
        }
      ]
    },
    {
      "cell_type": "code",
      "metadata": {
        "id": "GAcmchsRHDXF",
        "colab_type": "code",
        "colab": {}
      },
      "source": [
        "from sklearn.model_selection import train_test_split\n",
        "from sklearn.metrics import accuracy_score"
      ],
      "execution_count": 0,
      "outputs": []
    },
    {
      "cell_type": "code",
      "metadata": {
        "id": "-MDC0p0oHgA8",
        "colab_type": "code",
        "colab": {}
      },
      "source": [
        "xtrain,xvalid,ytrain,yvalid = train_test_split(df,target,test_size=0.1\n",
        "                                               ,shuffle=True,random_state=0)"
      ],
      "execution_count": 0,
      "outputs": []
    },
    {
      "cell_type": "code",
      "metadata": {
        "id": "BPkn8DhhIQ02",
        "colab_type": "code",
        "colab": {}
      },
      "source": [
        "# Gradient Boosting classifier"
      ],
      "execution_count": 0,
      "outputs": []
    },
    {
      "cell_type": "code",
      "metadata": {
        "id": "t9shfO1CIYVk",
        "colab_type": "code",
        "outputId": "0a810397-9b71-4826-b246-b03ed7c957cb",
        "colab": {
          "base_uri": "https://localhost:8080/",
          "height": 34
        }
      },
      "source": [
        "from sklearn.ensemble import GradientBoostingClassifier\n",
        "gbk = GradientBoostingClassifier()\n",
        "m1=gbk.fit(xtrain,ytrain)\n",
        "p1 = m1.predict(xvalid)\n",
        "print(accuracy_score(yvalid,p1,normalize=True))"
      ],
      "execution_count": 0,
      "outputs": [
        {
          "output_type": "stream",
          "text": [
            "0.869\n"
          ],
          "name": "stdout"
        }
      ]
    },
    {
      "cell_type": "code",
      "metadata": {
        "id": "cg6DBJRuI512",
        "colab_type": "code",
        "colab": {}
      },
      "source": [
        "import xgboost\n",
        "from xgboost import XGBClassifier"
      ],
      "execution_count": 0,
      "outputs": []
    },
    {
      "cell_type": "code",
      "metadata": {
        "id": "Y_0VS02sDKfL",
        "colab_type": "code",
        "colab": {}
      },
      "source": [
        ""
      ],
      "execution_count": 0,
      "outputs": []
    },
    {
      "cell_type": "code",
      "metadata": {
        "id": "RnDHtvSVJuop",
        "colab_type": "code",
        "outputId": "f8ea0d61-b80f-458e-8ef6-8e64a0a8451d",
        "colab": {
          "base_uri": "https://localhost:8080/",
          "height": 34
        }
      },
      "source": [
        "xgb = xgboost.XGBClassifier(learning_rate=0.3,n_estimators=1250,\n",
        "                            max_depth=5,objective='multi:softmax',\n",
        "                            gamma=0)\n",
        "m2 = xgb.fit(xtrain,ytrain)\n",
        "p2 = m2.predict(xvalid)\n",
        "print(accuracy_score(yvalid,p2,normalize=True))\n"
      ],
      "execution_count": 0,
      "outputs": [
        {
          "output_type": "stream",
          "text": [
            "0.963\n"
          ],
          "name": "stdout"
        }
      ]
    },
    {
      "cell_type": "code",
      "metadata": {
        "id": "ak1s1lC9QtRB",
        "colab_type": "code",
        "colab": {}
      },
      "source": [
        "p2 = pd.DataFrame(p2)"
      ],
      "execution_count": 0,
      "outputs": []
    },
    {
      "cell_type": "code",
      "metadata": {
        "id": "un0nTpa-KIvZ",
        "colab_type": "code",
        "outputId": "78ec1a42-73f6-446f-b396-1f896b586be9",
        "colab": {
          "base_uri": "https://localhost:8080/",
          "height": 104
        }
      },
      "source": [
        "target = pd.DataFrame(target)\n",
        "target[0].value_counts()"
      ],
      "execution_count": 0,
      "outputs": [
        {
          "output_type": "execute_result",
          "data": {
            "text/plain": [
              "0    3049\n",
              "3    2729\n",
              "1    2527\n",
              "2    1695\n",
              "Name: 0, dtype: int64"
            ]
          },
          "metadata": {
            "tags": []
          },
          "execution_count": 71
        }
      ]
    },
    {
      "cell_type": "code",
      "metadata": {
        "id": "N2LTKA7QPO7C",
        "colab_type": "code",
        "colab": {}
      },
      "source": [
        "mapdic = {0:'Highly_Fatal_And_Damaging',1:'Minor_Damage_And_Injuries',\n",
        "          2:'Significant_Damage_And_Fatalities',\n",
        "          3:'Significant_Damage_And_Serious_Injuries'}"
      ],
      "execution_count": 0,
      "outputs": []
    },
    {
      "cell_type": "code",
      "metadata": {
        "id": "ikF7u2IBSTaH",
        "colab_type": "code",
        "colab": {}
      },
      "source": [
        "p2f = p2[0].apply(lambda x : mapdic[x])"
      ],
      "execution_count": 0,
      "outputs": []
    },
    {
      "cell_type": "code",
      "metadata": {
        "id": "eCiFsm3HSUkS",
        "colab_type": "code",
        "colab": {}
      },
      "source": [
        "p2f = pd.DataFrame(p2f)"
      ],
      "execution_count": 0,
      "outputs": []
    },
    {
      "cell_type": "code",
      "metadata": {
        "id": "3_8DeJlRUCY7",
        "colab_type": "code",
        "outputId": "18bb491f-2ff2-45e6-d7d4-588cc492497a",
        "colab": {
          "base_uri": "https://localhost:8080/",
          "height": 206
        }
      },
      "source": [
        "p2f.head()"
      ],
      "execution_count": 0,
      "outputs": [
        {
          "output_type": "execute_result",
          "data": {
            "text/html": [
              "<div>\n",
              "<style scoped>\n",
              "    .dataframe tbody tr th:only-of-type {\n",
              "        vertical-align: middle;\n",
              "    }\n",
              "\n",
              "    .dataframe tbody tr th {\n",
              "        vertical-align: top;\n",
              "    }\n",
              "\n",
              "    .dataframe thead th {\n",
              "        text-align: right;\n",
              "    }\n",
              "</style>\n",
              "<table border=\"1\" class=\"dataframe\">\n",
              "  <thead>\n",
              "    <tr style=\"text-align: right;\">\n",
              "      <th></th>\n",
              "      <th>0</th>\n",
              "    </tr>\n",
              "  </thead>\n",
              "  <tbody>\n",
              "    <tr>\n",
              "      <th>0</th>\n",
              "      <td>Highly_Fatal_And_Damaging</td>\n",
              "    </tr>\n",
              "    <tr>\n",
              "      <th>1</th>\n",
              "      <td>Significant_Damage_And_Serious_Injuries</td>\n",
              "    </tr>\n",
              "    <tr>\n",
              "      <th>2</th>\n",
              "      <td>Highly_Fatal_And_Damaging</td>\n",
              "    </tr>\n",
              "    <tr>\n",
              "      <th>3</th>\n",
              "      <td>Significant_Damage_And_Serious_Injuries</td>\n",
              "    </tr>\n",
              "    <tr>\n",
              "      <th>4</th>\n",
              "      <td>Highly_Fatal_And_Damaging</td>\n",
              "    </tr>\n",
              "  </tbody>\n",
              "</table>\n",
              "</div>"
            ],
            "text/plain": [
              "                                         0\n",
              "0                Highly_Fatal_And_Damaging\n",
              "1  Significant_Damage_And_Serious_Injuries\n",
              "2                Highly_Fatal_And_Damaging\n",
              "3  Significant_Damage_And_Serious_Injuries\n",
              "4                Highly_Fatal_And_Damaging"
            ]
          },
          "metadata": {
            "tags": []
          },
          "execution_count": 75
        }
      ]
    },
    {
      "cell_type": "code",
      "metadata": {
        "id": "bp0vPIbgUM-e",
        "colab_type": "code",
        "outputId": "c50a6dd5-43e9-4533-e83e-fa1c13f77e28",
        "colab": {
          "base_uri": "https://localhost:8080/",
          "height": 226
        }
      },
      "source": [
        "test.head()"
      ],
      "execution_count": 0,
      "outputs": [
        {
          "output_type": "execute_result",
          "data": {
            "text/html": [
              "<div>\n",
              "<style scoped>\n",
              "    .dataframe tbody tr th:only-of-type {\n",
              "        vertical-align: middle;\n",
              "    }\n",
              "\n",
              "    .dataframe tbody tr th {\n",
              "        vertical-align: top;\n",
              "    }\n",
              "\n",
              "    .dataframe thead th {\n",
              "        text-align: right;\n",
              "    }\n",
              "</style>\n",
              "<table border=\"1\" class=\"dataframe\">\n",
              "  <thead>\n",
              "    <tr style=\"text-align: right;\">\n",
              "      <th></th>\n",
              "      <th>Safety_Score</th>\n",
              "      <th>Days_Since_Inspection</th>\n",
              "      <th>Total_Safety_Complaints</th>\n",
              "      <th>Control_Metric</th>\n",
              "      <th>Turbulence_In_gforces</th>\n",
              "      <th>Cabin_Temperature</th>\n",
              "      <th>Accident_Type_Code</th>\n",
              "      <th>Max_Elevation</th>\n",
              "      <th>Violations</th>\n",
              "      <th>Adverse_Weather_Metric</th>\n",
              "      <th>Accident_ID</th>\n",
              "    </tr>\n",
              "  </thead>\n",
              "  <tbody>\n",
              "    <tr>\n",
              "      <th>0</th>\n",
              "      <td>19.497717</td>\n",
              "      <td>16</td>\n",
              "      <td>6</td>\n",
              "      <td>72.151322</td>\n",
              "      <td>0.388959</td>\n",
              "      <td>78.32</td>\n",
              "      <td>4</td>\n",
              "      <td>37949.724386</td>\n",
              "      <td>2</td>\n",
              "      <td>0.069692</td>\n",
              "      <td>1</td>\n",
              "    </tr>\n",
              "    <tr>\n",
              "      <th>1</th>\n",
              "      <td>58.173516</td>\n",
              "      <td>15</td>\n",
              "      <td>3</td>\n",
              "      <td>64.585232</td>\n",
              "      <td>0.250841</td>\n",
              "      <td>78.60</td>\n",
              "      <td>7</td>\n",
              "      <td>30194.805567</td>\n",
              "      <td>2</td>\n",
              "      <td>0.002777</td>\n",
              "      <td>10</td>\n",
              "    </tr>\n",
              "    <tr>\n",
              "      <th>2</th>\n",
              "      <td>33.287671</td>\n",
              "      <td>15</td>\n",
              "      <td>3</td>\n",
              "      <td>64.721969</td>\n",
              "      <td>0.336669</td>\n",
              "      <td>86.96</td>\n",
              "      <td>6</td>\n",
              "      <td>17572.925484</td>\n",
              "      <td>1</td>\n",
              "      <td>0.004316</td>\n",
              "      <td>14</td>\n",
              "    </tr>\n",
              "    <tr>\n",
              "      <th>3</th>\n",
              "      <td>3.287671</td>\n",
              "      <td>21</td>\n",
              "      <td>5</td>\n",
              "      <td>66.362808</td>\n",
              "      <td>0.421775</td>\n",
              "      <td>80.86</td>\n",
              "      <td>3</td>\n",
              "      <td>40209.186341</td>\n",
              "      <td>2</td>\n",
              "      <td>0.199990</td>\n",
              "      <td>17</td>\n",
              "    </tr>\n",
              "    <tr>\n",
              "      <th>4</th>\n",
              "      <td>10.867580</td>\n",
              "      <td>18</td>\n",
              "      <td>2</td>\n",
              "      <td>56.107566</td>\n",
              "      <td>0.313228</td>\n",
              "      <td>79.22</td>\n",
              "      <td>2</td>\n",
              "      <td>35495.525408</td>\n",
              "      <td>2</td>\n",
              "      <td>0.483696</td>\n",
              "      <td>21</td>\n",
              "    </tr>\n",
              "  </tbody>\n",
              "</table>\n",
              "</div>"
            ],
            "text/plain": [
              "   Safety_Score  Days_Since_Inspection  ...  Adverse_Weather_Metric  Accident_ID\n",
              "0     19.497717                     16  ...                0.069692            1\n",
              "1     58.173516                     15  ...                0.002777           10\n",
              "2     33.287671                     15  ...                0.004316           14\n",
              "3      3.287671                     21  ...                0.199990           17\n",
              "4     10.867580                     18  ...                0.483696           21\n",
              "\n",
              "[5 rows x 11 columns]"
            ]
          },
          "metadata": {
            "tags": []
          },
          "execution_count": 110
        }
      ]
    },
    {
      "cell_type": "code",
      "metadata": {
        "id": "tKOiX_1zUUuM",
        "colab_type": "code",
        "outputId": "91c78204-eea4-460d-d027-7498cf2dd08d",
        "colab": {
          "base_uri": "https://localhost:8080/",
          "height": 732
        }
      },
      "source": [
        "tids = test['Accident_ID']\n",
        "test.drop(['Accident_ID'],axis=1,inplace=True)\n"
      ],
      "execution_count": 0,
      "outputs": [
        {
          "output_type": "error",
          "ename": "KeyError",
          "evalue": "ignored",
          "traceback": [
            "\u001b[0;31m---------------------------------------------------------------------------\u001b[0m",
            "\u001b[0;31mKeyError\u001b[0m                                  Traceback (most recent call last)",
            "\u001b[0;32m/usr/local/lib/python3.6/dist-packages/pandas/core/indexes/base.py\u001b[0m in \u001b[0;36mget_loc\u001b[0;34m(self, key, method, tolerance)\u001b[0m\n\u001b[1;32m   2896\u001b[0m             \u001b[0;32mtry\u001b[0m\u001b[0;34m:\u001b[0m\u001b[0;34m\u001b[0m\u001b[0;34m\u001b[0m\u001b[0m\n\u001b[0;32m-> 2897\u001b[0;31m                 \u001b[0;32mreturn\u001b[0m \u001b[0mself\u001b[0m\u001b[0;34m.\u001b[0m\u001b[0m_engine\u001b[0m\u001b[0;34m.\u001b[0m\u001b[0mget_loc\u001b[0m\u001b[0;34m(\u001b[0m\u001b[0mkey\u001b[0m\u001b[0;34m)\u001b[0m\u001b[0;34m\u001b[0m\u001b[0;34m\u001b[0m\u001b[0m\n\u001b[0m\u001b[1;32m   2898\u001b[0m             \u001b[0;32mexcept\u001b[0m \u001b[0mKeyError\u001b[0m\u001b[0;34m:\u001b[0m\u001b[0;34m\u001b[0m\u001b[0;34m\u001b[0m\u001b[0m\n",
            "\u001b[0;32mpandas/_libs/index.pyx\u001b[0m in \u001b[0;36mpandas._libs.index.IndexEngine.get_loc\u001b[0;34m()\u001b[0m\n",
            "\u001b[0;32mpandas/_libs/index.pyx\u001b[0m in \u001b[0;36mpandas._libs.index.IndexEngine.get_loc\u001b[0;34m()\u001b[0m\n",
            "\u001b[0;32mpandas/_libs/hashtable_class_helper.pxi\u001b[0m in \u001b[0;36mpandas._libs.hashtable.PyObjectHashTable.get_item\u001b[0;34m()\u001b[0m\n",
            "\u001b[0;32mpandas/_libs/hashtable_class_helper.pxi\u001b[0m in \u001b[0;36mpandas._libs.hashtable.PyObjectHashTable.get_item\u001b[0;34m()\u001b[0m\n",
            "\u001b[0;31mKeyError\u001b[0m: 'Accident_ID'",
            "\nDuring handling of the above exception, another exception occurred:\n",
            "\u001b[0;31mKeyError\u001b[0m                                  Traceback (most recent call last)",
            "\u001b[0;32m<ipython-input-129-f2a5f314ce66>\u001b[0m in \u001b[0;36m<module>\u001b[0;34m()\u001b[0m\n\u001b[0;32m----> 1\u001b[0;31m \u001b[0mtids\u001b[0m \u001b[0;34m=\u001b[0m \u001b[0mtest\u001b[0m\u001b[0;34m[\u001b[0m\u001b[0;34m'Accident_ID'\u001b[0m\u001b[0;34m]\u001b[0m\u001b[0;34m\u001b[0m\u001b[0;34m\u001b[0m\u001b[0m\n\u001b[0m\u001b[1;32m      2\u001b[0m \u001b[0mtest\u001b[0m\u001b[0;34m.\u001b[0m\u001b[0mdrop\u001b[0m\u001b[0;34m(\u001b[0m\u001b[0;34m[\u001b[0m\u001b[0;34m'Accident_ID'\u001b[0m\u001b[0;34m]\u001b[0m\u001b[0;34m,\u001b[0m\u001b[0maxis\u001b[0m\u001b[0;34m=\u001b[0m\u001b[0;36m1\u001b[0m\u001b[0;34m,\u001b[0m\u001b[0minplace\u001b[0m\u001b[0;34m=\u001b[0m\u001b[0;32mTrue\u001b[0m\u001b[0;34m)\u001b[0m\u001b[0;34m\u001b[0m\u001b[0;34m\u001b[0m\u001b[0m\n",
            "\u001b[0;32m/usr/local/lib/python3.6/dist-packages/pandas/core/frame.py\u001b[0m in \u001b[0;36m__getitem__\u001b[0;34m(self, key)\u001b[0m\n\u001b[1;32m   2993\u001b[0m             \u001b[0;32mif\u001b[0m \u001b[0mself\u001b[0m\u001b[0;34m.\u001b[0m\u001b[0mcolumns\u001b[0m\u001b[0;34m.\u001b[0m\u001b[0mnlevels\u001b[0m \u001b[0;34m>\u001b[0m \u001b[0;36m1\u001b[0m\u001b[0;34m:\u001b[0m\u001b[0;34m\u001b[0m\u001b[0;34m\u001b[0m\u001b[0m\n\u001b[1;32m   2994\u001b[0m                 \u001b[0;32mreturn\u001b[0m \u001b[0mself\u001b[0m\u001b[0;34m.\u001b[0m\u001b[0m_getitem_multilevel\u001b[0m\u001b[0;34m(\u001b[0m\u001b[0mkey\u001b[0m\u001b[0;34m)\u001b[0m\u001b[0;34m\u001b[0m\u001b[0;34m\u001b[0m\u001b[0m\n\u001b[0;32m-> 2995\u001b[0;31m             \u001b[0mindexer\u001b[0m \u001b[0;34m=\u001b[0m \u001b[0mself\u001b[0m\u001b[0;34m.\u001b[0m\u001b[0mcolumns\u001b[0m\u001b[0;34m.\u001b[0m\u001b[0mget_loc\u001b[0m\u001b[0;34m(\u001b[0m\u001b[0mkey\u001b[0m\u001b[0;34m)\u001b[0m\u001b[0;34m\u001b[0m\u001b[0;34m\u001b[0m\u001b[0m\n\u001b[0m\u001b[1;32m   2996\u001b[0m             \u001b[0;32mif\u001b[0m \u001b[0mis_integer\u001b[0m\u001b[0;34m(\u001b[0m\u001b[0mindexer\u001b[0m\u001b[0;34m)\u001b[0m\u001b[0;34m:\u001b[0m\u001b[0;34m\u001b[0m\u001b[0;34m\u001b[0m\u001b[0m\n\u001b[1;32m   2997\u001b[0m                 \u001b[0mindexer\u001b[0m \u001b[0;34m=\u001b[0m \u001b[0;34m[\u001b[0m\u001b[0mindexer\u001b[0m\u001b[0;34m]\u001b[0m\u001b[0;34m\u001b[0m\u001b[0;34m\u001b[0m\u001b[0m\n",
            "\u001b[0;32m/usr/local/lib/python3.6/dist-packages/pandas/core/indexes/base.py\u001b[0m in \u001b[0;36mget_loc\u001b[0;34m(self, key, method, tolerance)\u001b[0m\n\u001b[1;32m   2897\u001b[0m                 \u001b[0;32mreturn\u001b[0m \u001b[0mself\u001b[0m\u001b[0;34m.\u001b[0m\u001b[0m_engine\u001b[0m\u001b[0;34m.\u001b[0m\u001b[0mget_loc\u001b[0m\u001b[0;34m(\u001b[0m\u001b[0mkey\u001b[0m\u001b[0;34m)\u001b[0m\u001b[0;34m\u001b[0m\u001b[0;34m\u001b[0m\u001b[0m\n\u001b[1;32m   2898\u001b[0m             \u001b[0;32mexcept\u001b[0m \u001b[0mKeyError\u001b[0m\u001b[0;34m:\u001b[0m\u001b[0;34m\u001b[0m\u001b[0;34m\u001b[0m\u001b[0m\n\u001b[0;32m-> 2899\u001b[0;31m                 \u001b[0;32mreturn\u001b[0m \u001b[0mself\u001b[0m\u001b[0;34m.\u001b[0m\u001b[0m_engine\u001b[0m\u001b[0;34m.\u001b[0m\u001b[0mget_loc\u001b[0m\u001b[0;34m(\u001b[0m\u001b[0mself\u001b[0m\u001b[0;34m.\u001b[0m\u001b[0m_maybe_cast_indexer\u001b[0m\u001b[0;34m(\u001b[0m\u001b[0mkey\u001b[0m\u001b[0;34m)\u001b[0m\u001b[0;34m)\u001b[0m\u001b[0;34m\u001b[0m\u001b[0;34m\u001b[0m\u001b[0m\n\u001b[0m\u001b[1;32m   2900\u001b[0m         \u001b[0mindexer\u001b[0m \u001b[0;34m=\u001b[0m \u001b[0mself\u001b[0m\u001b[0;34m.\u001b[0m\u001b[0mget_indexer\u001b[0m\u001b[0;34m(\u001b[0m\u001b[0;34m[\u001b[0m\u001b[0mkey\u001b[0m\u001b[0;34m]\u001b[0m\u001b[0;34m,\u001b[0m \u001b[0mmethod\u001b[0m\u001b[0;34m=\u001b[0m\u001b[0mmethod\u001b[0m\u001b[0;34m,\u001b[0m \u001b[0mtolerance\u001b[0m\u001b[0;34m=\u001b[0m\u001b[0mtolerance\u001b[0m\u001b[0;34m)\u001b[0m\u001b[0;34m\u001b[0m\u001b[0;34m\u001b[0m\u001b[0m\n\u001b[1;32m   2901\u001b[0m         \u001b[0;32mif\u001b[0m \u001b[0mindexer\u001b[0m\u001b[0;34m.\u001b[0m\u001b[0mndim\u001b[0m \u001b[0;34m>\u001b[0m \u001b[0;36m1\u001b[0m \u001b[0;32mor\u001b[0m \u001b[0mindexer\u001b[0m\u001b[0;34m.\u001b[0m\u001b[0msize\u001b[0m \u001b[0;34m>\u001b[0m \u001b[0;36m1\u001b[0m\u001b[0;34m:\u001b[0m\u001b[0;34m\u001b[0m\u001b[0;34m\u001b[0m\u001b[0m\n",
            "\u001b[0;32mpandas/_libs/index.pyx\u001b[0m in \u001b[0;36mpandas._libs.index.IndexEngine.get_loc\u001b[0;34m()\u001b[0m\n",
            "\u001b[0;32mpandas/_libs/index.pyx\u001b[0m in \u001b[0;36mpandas._libs.index.IndexEngine.get_loc\u001b[0;34m()\u001b[0m\n",
            "\u001b[0;32mpandas/_libs/hashtable_class_helper.pxi\u001b[0m in \u001b[0;36mpandas._libs.hashtable.PyObjectHashTable.get_item\u001b[0;34m()\u001b[0m\n",
            "\u001b[0;32mpandas/_libs/hashtable_class_helper.pxi\u001b[0m in \u001b[0;36mpandas._libs.hashtable.PyObjectHashTable.get_item\u001b[0;34m()\u001b[0m\n",
            "\u001b[0;31mKeyError\u001b[0m: 'Accident_ID'"
          ]
        }
      ]
    },
    {
      "cell_type": "code",
      "metadata": {
        "id": "JDid6RM9UfMz",
        "colab_type": "code",
        "outputId": "d35c496f-1ce2-47aa-9abc-239ec1241026",
        "colab": {
          "base_uri": "https://localhost:8080/",
          "height": 226
        }
      },
      "source": [
        "test.head()"
      ],
      "execution_count": 0,
      "outputs": [
        {
          "output_type": "execute_result",
          "data": {
            "text/html": [
              "<div>\n",
              "<style scoped>\n",
              "    .dataframe tbody tr th:only-of-type {\n",
              "        vertical-align: middle;\n",
              "    }\n",
              "\n",
              "    .dataframe tbody tr th {\n",
              "        vertical-align: top;\n",
              "    }\n",
              "\n",
              "    .dataframe thead th {\n",
              "        text-align: right;\n",
              "    }\n",
              "</style>\n",
              "<table border=\"1\" class=\"dataframe\">\n",
              "  <thead>\n",
              "    <tr style=\"text-align: right;\">\n",
              "      <th></th>\n",
              "      <th>Safety_Score</th>\n",
              "      <th>Days_Since_Inspection</th>\n",
              "      <th>Total_Safety_Complaints</th>\n",
              "      <th>Control_Metric</th>\n",
              "      <th>Turbulence_In_gforces</th>\n",
              "      <th>Cabin_Temperature</th>\n",
              "      <th>Accident_Type_Code</th>\n",
              "      <th>Max_Elevation</th>\n",
              "      <th>Violations</th>\n",
              "      <th>Adverse_Weather_Metric</th>\n",
              "    </tr>\n",
              "  </thead>\n",
              "  <tbody>\n",
              "    <tr>\n",
              "      <th>0</th>\n",
              "      <td>19.497717</td>\n",
              "      <td>16</td>\n",
              "      <td>6</td>\n",
              "      <td>72.151322</td>\n",
              "      <td>0.388959</td>\n",
              "      <td>78.32</td>\n",
              "      <td>4</td>\n",
              "      <td>37949.724386</td>\n",
              "      <td>2</td>\n",
              "      <td>0.069692</td>\n",
              "    </tr>\n",
              "    <tr>\n",
              "      <th>1</th>\n",
              "      <td>58.173516</td>\n",
              "      <td>15</td>\n",
              "      <td>3</td>\n",
              "      <td>64.585232</td>\n",
              "      <td>0.250841</td>\n",
              "      <td>78.60</td>\n",
              "      <td>7</td>\n",
              "      <td>30194.805567</td>\n",
              "      <td>2</td>\n",
              "      <td>0.002777</td>\n",
              "    </tr>\n",
              "    <tr>\n",
              "      <th>2</th>\n",
              "      <td>33.287671</td>\n",
              "      <td>15</td>\n",
              "      <td>3</td>\n",
              "      <td>64.721969</td>\n",
              "      <td>0.336669</td>\n",
              "      <td>86.96</td>\n",
              "      <td>6</td>\n",
              "      <td>17572.925484</td>\n",
              "      <td>1</td>\n",
              "      <td>0.004316</td>\n",
              "    </tr>\n",
              "    <tr>\n",
              "      <th>3</th>\n",
              "      <td>3.287671</td>\n",
              "      <td>21</td>\n",
              "      <td>5</td>\n",
              "      <td>66.362808</td>\n",
              "      <td>0.421775</td>\n",
              "      <td>80.86</td>\n",
              "      <td>3</td>\n",
              "      <td>40209.186341</td>\n",
              "      <td>2</td>\n",
              "      <td>0.199990</td>\n",
              "    </tr>\n",
              "    <tr>\n",
              "      <th>4</th>\n",
              "      <td>10.867580</td>\n",
              "      <td>18</td>\n",
              "      <td>2</td>\n",
              "      <td>56.107566</td>\n",
              "      <td>0.313228</td>\n",
              "      <td>79.22</td>\n",
              "      <td>2</td>\n",
              "      <td>35495.525408</td>\n",
              "      <td>2</td>\n",
              "      <td>0.483696</td>\n",
              "    </tr>\n",
              "  </tbody>\n",
              "</table>\n",
              "</div>"
            ],
            "text/plain": [
              "   Safety_Score  Days_Since_Inspection  ...  Violations  Adverse_Weather_Metric\n",
              "0     19.497717                     16  ...           2                0.069692\n",
              "1     58.173516                     15  ...           2                0.002777\n",
              "2     33.287671                     15  ...           1                0.004316\n",
              "3      3.287671                     21  ...           2                0.199990\n",
              "4     10.867580                     18  ...           2                0.483696\n",
              "\n",
              "[5 rows x 10 columns]"
            ]
          },
          "metadata": {
            "tags": []
          },
          "execution_count": 130
        }
      ]
    },
    {
      "cell_type": "code",
      "metadata": {
        "id": "s35mA3sdVEAo",
        "colab_type": "code",
        "colab": {}
      },
      "source": [
        "out1 = m2.predict(test)"
      ],
      "execution_count": 0,
      "outputs": []
    },
    {
      "cell_type": "code",
      "metadata": {
        "id": "6tDFvNHcXZYZ",
        "colab_type": "code",
        "outputId": "ce3c4134-08d0-4bd5-ff23-94e118812947",
        "colab": {
          "base_uri": "https://localhost:8080/",
          "height": 34
        }
      },
      "source": [
        "out1"
      ],
      "execution_count": 0,
      "outputs": [
        {
          "output_type": "execute_result",
          "data": {
            "text/plain": [
              "array([0, 2, 3, ..., 3, 3, 0])"
            ]
          },
          "metadata": {
            "tags": []
          },
          "execution_count": 132
        }
      ]
    },
    {
      "cell_type": "code",
      "metadata": {
        "id": "WYgL-16NXbVk",
        "colab_type": "code",
        "colab": {}
      },
      "source": [
        "out1 = pd.DataFrame(out1)"
      ],
      "execution_count": 0,
      "outputs": []
    },
    {
      "cell_type": "code",
      "metadata": {
        "id": "M9zIthZ5Xe1F",
        "colab_type": "code",
        "outputId": "509c8316-a7ee-44f9-afd3-5af43cd2686d",
        "colab": {
          "base_uri": "https://localhost:8080/",
          "height": 206
        }
      },
      "source": [
        "out1.head()"
      ],
      "execution_count": 0,
      "outputs": [
        {
          "output_type": "execute_result",
          "data": {
            "text/html": [
              "<div>\n",
              "<style scoped>\n",
              "    .dataframe tbody tr th:only-of-type {\n",
              "        vertical-align: middle;\n",
              "    }\n",
              "\n",
              "    .dataframe tbody tr th {\n",
              "        vertical-align: top;\n",
              "    }\n",
              "\n",
              "    .dataframe thead th {\n",
              "        text-align: right;\n",
              "    }\n",
              "</style>\n",
              "<table border=\"1\" class=\"dataframe\">\n",
              "  <thead>\n",
              "    <tr style=\"text-align: right;\">\n",
              "      <th></th>\n",
              "      <th>0</th>\n",
              "    </tr>\n",
              "  </thead>\n",
              "  <tbody>\n",
              "    <tr>\n",
              "      <th>0</th>\n",
              "      <td>0</td>\n",
              "    </tr>\n",
              "    <tr>\n",
              "      <th>1</th>\n",
              "      <td>2</td>\n",
              "    </tr>\n",
              "    <tr>\n",
              "      <th>2</th>\n",
              "      <td>3</td>\n",
              "    </tr>\n",
              "    <tr>\n",
              "      <th>3</th>\n",
              "      <td>0</td>\n",
              "    </tr>\n",
              "    <tr>\n",
              "      <th>4</th>\n",
              "      <td>2</td>\n",
              "    </tr>\n",
              "  </tbody>\n",
              "</table>\n",
              "</div>"
            ],
            "text/plain": [
              "   0\n",
              "0  0\n",
              "1  2\n",
              "2  3\n",
              "3  0\n",
              "4  2"
            ]
          },
          "metadata": {
            "tags": []
          },
          "execution_count": 134
        }
      ]
    },
    {
      "cell_type": "code",
      "metadata": {
        "id": "JpgPnZSHXgZE",
        "colab_type": "code",
        "colab": {}
      },
      "source": [
        "out1 = out1[0].apply(lambda x : mapdic[x])"
      ],
      "execution_count": 0,
      "outputs": []
    },
    {
      "cell_type": "code",
      "metadata": {
        "id": "qM_mBwyxXuUu",
        "colab_type": "code",
        "colab": {}
      },
      "source": [
        "out1 = pd.DataFrame(out1)"
      ],
      "execution_count": 0,
      "outputs": []
    },
    {
      "cell_type": "code",
      "metadata": {
        "id": "c0HS3-C3X0ep",
        "colab_type": "code",
        "outputId": "dca03ce6-935f-4fa2-e949-c49ebed02e60",
        "colab": {
          "base_uri": "https://localhost:8080/",
          "height": 206
        }
      },
      "source": [
        "out1.head()"
      ],
      "execution_count": 0,
      "outputs": [
        {
          "output_type": "execute_result",
          "data": {
            "text/html": [
              "<div>\n",
              "<style scoped>\n",
              "    .dataframe tbody tr th:only-of-type {\n",
              "        vertical-align: middle;\n",
              "    }\n",
              "\n",
              "    .dataframe tbody tr th {\n",
              "        vertical-align: top;\n",
              "    }\n",
              "\n",
              "    .dataframe thead th {\n",
              "        text-align: right;\n",
              "    }\n",
              "</style>\n",
              "<table border=\"1\" class=\"dataframe\">\n",
              "  <thead>\n",
              "    <tr style=\"text-align: right;\">\n",
              "      <th></th>\n",
              "      <th>0</th>\n",
              "    </tr>\n",
              "  </thead>\n",
              "  <tbody>\n",
              "    <tr>\n",
              "      <th>0</th>\n",
              "      <td>Highly_Fatal_And_Damaging</td>\n",
              "    </tr>\n",
              "    <tr>\n",
              "      <th>1</th>\n",
              "      <td>Significant_Damage_And_Fatalities</td>\n",
              "    </tr>\n",
              "    <tr>\n",
              "      <th>2</th>\n",
              "      <td>Significant_Damage_And_Serious_Injuries</td>\n",
              "    </tr>\n",
              "    <tr>\n",
              "      <th>3</th>\n",
              "      <td>Highly_Fatal_And_Damaging</td>\n",
              "    </tr>\n",
              "    <tr>\n",
              "      <th>4</th>\n",
              "      <td>Significant_Damage_And_Fatalities</td>\n",
              "    </tr>\n",
              "  </tbody>\n",
              "</table>\n",
              "</div>"
            ],
            "text/plain": [
              "                                         0\n",
              "0                Highly_Fatal_And_Damaging\n",
              "1        Significant_Damage_And_Fatalities\n",
              "2  Significant_Damage_And_Serious_Injuries\n",
              "3                Highly_Fatal_And_Damaging\n",
              "4        Significant_Damage_And_Fatalities"
            ]
          },
          "metadata": {
            "tags": []
          },
          "execution_count": 157
        }
      ]
    },
    {
      "cell_type": "code",
      "metadata": {
        "id": "kOTmUJFwcL8P",
        "colab_type": "code",
        "colab": {}
      },
      "source": [
        "out1 = out1.rename(columns={0:'Severity'})"
      ],
      "execution_count": 0,
      "outputs": []
    },
    {
      "cell_type": "code",
      "metadata": {
        "id": "78fr6wQaet1h",
        "colab_type": "code",
        "colab": {}
      },
      "source": [
        "d = {'Accident_ID':tids,'Severity':out1['Severity']}\n",
        "\n",
        "o1 = pd.DataFrame(d)"
      ],
      "execution_count": 0,
      "outputs": []
    },
    {
      "cell_type": "code",
      "metadata": {
        "id": "PxbLrFP0gAYJ",
        "colab_type": "code",
        "outputId": "53c9cec3-1ddf-43be-be6d-fc2af1cf7225",
        "colab": {
          "base_uri": "https://localhost:8080/",
          "height": 206
        }
      },
      "source": [
        "o1.head()"
      ],
      "execution_count": 0,
      "outputs": [
        {
          "output_type": "execute_result",
          "data": {
            "text/html": [
              "<div>\n",
              "<style scoped>\n",
              "    .dataframe tbody tr th:only-of-type {\n",
              "        vertical-align: middle;\n",
              "    }\n",
              "\n",
              "    .dataframe tbody tr th {\n",
              "        vertical-align: top;\n",
              "    }\n",
              "\n",
              "    .dataframe thead th {\n",
              "        text-align: right;\n",
              "    }\n",
              "</style>\n",
              "<table border=\"1\" class=\"dataframe\">\n",
              "  <thead>\n",
              "    <tr style=\"text-align: right;\">\n",
              "      <th></th>\n",
              "      <th>Accident_ID</th>\n",
              "      <th>Severity</th>\n",
              "    </tr>\n",
              "  </thead>\n",
              "  <tbody>\n",
              "    <tr>\n",
              "      <th>0</th>\n",
              "      <td>1</td>\n",
              "      <td>Highly_Fatal_And_Damaging</td>\n",
              "    </tr>\n",
              "    <tr>\n",
              "      <th>1</th>\n",
              "      <td>10</td>\n",
              "      <td>Significant_Damage_And_Fatalities</td>\n",
              "    </tr>\n",
              "    <tr>\n",
              "      <th>2</th>\n",
              "      <td>14</td>\n",
              "      <td>Significant_Damage_And_Serious_Injuries</td>\n",
              "    </tr>\n",
              "    <tr>\n",
              "      <th>3</th>\n",
              "      <td>17</td>\n",
              "      <td>Highly_Fatal_And_Damaging</td>\n",
              "    </tr>\n",
              "    <tr>\n",
              "      <th>4</th>\n",
              "      <td>21</td>\n",
              "      <td>Significant_Damage_And_Fatalities</td>\n",
              "    </tr>\n",
              "  </tbody>\n",
              "</table>\n",
              "</div>"
            ],
            "text/plain": [
              "   Accident_ID                                 Severity\n",
              "0            1                Highly_Fatal_And_Damaging\n",
              "1           10        Significant_Damage_And_Fatalities\n",
              "2           14  Significant_Damage_And_Serious_Injuries\n",
              "3           17                Highly_Fatal_And_Damaging\n",
              "4           21        Significant_Damage_And_Fatalities"
            ]
          },
          "metadata": {
            "tags": []
          },
          "execution_count": 160
        }
      ]
    },
    {
      "cell_type": "code",
      "metadata": {
        "id": "ozQtkDoBkWJ-",
        "colab_type": "code",
        "colab": {}
      },
      "source": [
        "o1.to_csv('/content/drive/My Drive/airplane/submission11.csv')"
      ],
      "execution_count": 0,
      "outputs": []
    },
    {
      "cell_type": "code",
      "metadata": {
        "id": "suDZSvEmnaeF",
        "colab_type": "code",
        "colab": {}
      },
      "source": [
        "out2 = m2.predict(test)"
      ],
      "execution_count": 0,
      "outputs": []
    },
    {
      "cell_type": "code",
      "metadata": {
        "id": "TsmlFF5qnp_D",
        "colab_type": "code",
        "outputId": "c1460068-2fb2-496a-eab5-cb233a85d863",
        "colab": {
          "base_uri": "https://localhost:8080/",
          "height": 34
        }
      },
      "source": [
        "out2"
      ],
      "execution_count": 0,
      "outputs": [
        {
          "output_type": "execute_result",
          "data": {
            "text/plain": [
              "array([0, 2, 3, ..., 3, 3, 0])"
            ]
          },
          "metadata": {
            "tags": []
          },
          "execution_count": 52
        }
      ]
    },
    {
      "cell_type": "code",
      "metadata": {
        "id": "KeO6l9YpzDwr",
        "colab_type": "code",
        "colab": {}
      },
      "source": [
        "out2 = pd.DataFrame(out2)"
      ],
      "execution_count": 0,
      "outputs": []
    },
    {
      "cell_type": "code",
      "metadata": {
        "id": "Ky9nwHeNzIPT",
        "colab_type": "code",
        "outputId": "89bc6697-db5b-4e47-f7b3-a54753ac98f8",
        "colab": {
          "base_uri": "https://localhost:8080/",
          "height": 206
        }
      },
      "source": [
        "out2.head()"
      ],
      "execution_count": 0,
      "outputs": [
        {
          "output_type": "execute_result",
          "data": {
            "text/html": [
              "<div>\n",
              "<style scoped>\n",
              "    .dataframe tbody tr th:only-of-type {\n",
              "        vertical-align: middle;\n",
              "    }\n",
              "\n",
              "    .dataframe tbody tr th {\n",
              "        vertical-align: top;\n",
              "    }\n",
              "\n",
              "    .dataframe thead th {\n",
              "        text-align: right;\n",
              "    }\n",
              "</style>\n",
              "<table border=\"1\" class=\"dataframe\">\n",
              "  <thead>\n",
              "    <tr style=\"text-align: right;\">\n",
              "      <th></th>\n",
              "      <th>0</th>\n",
              "    </tr>\n",
              "  </thead>\n",
              "  <tbody>\n",
              "    <tr>\n",
              "      <th>0</th>\n",
              "      <td>0</td>\n",
              "    </tr>\n",
              "    <tr>\n",
              "      <th>1</th>\n",
              "      <td>2</td>\n",
              "    </tr>\n",
              "    <tr>\n",
              "      <th>2</th>\n",
              "      <td>3</td>\n",
              "    </tr>\n",
              "    <tr>\n",
              "      <th>3</th>\n",
              "      <td>0</td>\n",
              "    </tr>\n",
              "    <tr>\n",
              "      <th>4</th>\n",
              "      <td>2</td>\n",
              "    </tr>\n",
              "  </tbody>\n",
              "</table>\n",
              "</div>"
            ],
            "text/plain": [
              "   0\n",
              "0  0\n",
              "1  2\n",
              "2  3\n",
              "3  0\n",
              "4  2"
            ]
          },
          "metadata": {
            "tags": []
          },
          "execution_count": 54
        }
      ]
    },
    {
      "cell_type": "code",
      "metadata": {
        "id": "a7R9hKAmzJcN",
        "colab_type": "code",
        "colab": {}
      },
      "source": [
        "out2 = pd.DataFrame(out2[0].apply(lambda x: mapdic[x]))"
      ],
      "execution_count": 0,
      "outputs": []
    },
    {
      "cell_type": "code",
      "metadata": {
        "id": "wxh5nybDzOsE",
        "colab_type": "code",
        "outputId": "911ec25e-7022-4513-faf9-97ba76d0e05a",
        "colab": {
          "base_uri": "https://localhost:8080/",
          "height": 206
        }
      },
      "source": [
        "out2.head()"
      ],
      "execution_count": 0,
      "outputs": [
        {
          "output_type": "execute_result",
          "data": {
            "text/html": [
              "<div>\n",
              "<style scoped>\n",
              "    .dataframe tbody tr th:only-of-type {\n",
              "        vertical-align: middle;\n",
              "    }\n",
              "\n",
              "    .dataframe tbody tr th {\n",
              "        vertical-align: top;\n",
              "    }\n",
              "\n",
              "    .dataframe thead th {\n",
              "        text-align: right;\n",
              "    }\n",
              "</style>\n",
              "<table border=\"1\" class=\"dataframe\">\n",
              "  <thead>\n",
              "    <tr style=\"text-align: right;\">\n",
              "      <th></th>\n",
              "      <th>0</th>\n",
              "    </tr>\n",
              "  </thead>\n",
              "  <tbody>\n",
              "    <tr>\n",
              "      <th>0</th>\n",
              "      <td>Highly_Fatal_And_Damaging</td>\n",
              "    </tr>\n",
              "    <tr>\n",
              "      <th>1</th>\n",
              "      <td>Significant_Damage_And_Fatalities</td>\n",
              "    </tr>\n",
              "    <tr>\n",
              "      <th>2</th>\n",
              "      <td>Significant_Damage_And_Serious_Injuries</td>\n",
              "    </tr>\n",
              "    <tr>\n",
              "      <th>3</th>\n",
              "      <td>Highly_Fatal_And_Damaging</td>\n",
              "    </tr>\n",
              "    <tr>\n",
              "      <th>4</th>\n",
              "      <td>Significant_Damage_And_Fatalities</td>\n",
              "    </tr>\n",
              "  </tbody>\n",
              "</table>\n",
              "</div>"
            ],
            "text/plain": [
              "                                         0\n",
              "0                Highly_Fatal_And_Damaging\n",
              "1        Significant_Damage_And_Fatalities\n",
              "2  Significant_Damage_And_Serious_Injuries\n",
              "3                Highly_Fatal_And_Damaging\n",
              "4        Significant_Damage_And_Fatalities"
            ]
          },
          "metadata": {
            "tags": []
          },
          "execution_count": 56
        }
      ]
    },
    {
      "cell_type": "code",
      "metadata": {
        "id": "vYm8D2OUzTRh",
        "colab_type": "code",
        "colab": {}
      },
      "source": [
        "d2 = {'Accident_ID':tids,'Severity':out2[0]}\n",
        "\n",
        "o2 = pd.DataFrame(d2)"
      ],
      "execution_count": 0,
      "outputs": []
    },
    {
      "cell_type": "code",
      "metadata": {
        "id": "jcHThUFgzfCm",
        "colab_type": "code",
        "outputId": "9bbed482-2d93-47ee-a0c9-fbc139b8d58f",
        "colab": {
          "base_uri": "https://localhost:8080/",
          "height": 206
        }
      },
      "source": [
        "o2.head()"
      ],
      "execution_count": 0,
      "outputs": [
        {
          "output_type": "execute_result",
          "data": {
            "text/html": [
              "<div>\n",
              "<style scoped>\n",
              "    .dataframe tbody tr th:only-of-type {\n",
              "        vertical-align: middle;\n",
              "    }\n",
              "\n",
              "    .dataframe tbody tr th {\n",
              "        vertical-align: top;\n",
              "    }\n",
              "\n",
              "    .dataframe thead th {\n",
              "        text-align: right;\n",
              "    }\n",
              "</style>\n",
              "<table border=\"1\" class=\"dataframe\">\n",
              "  <thead>\n",
              "    <tr style=\"text-align: right;\">\n",
              "      <th></th>\n",
              "      <th>Accident_ID</th>\n",
              "      <th>Severity</th>\n",
              "    </tr>\n",
              "  </thead>\n",
              "  <tbody>\n",
              "    <tr>\n",
              "      <th>0</th>\n",
              "      <td>1</td>\n",
              "      <td>Highly_Fatal_And_Damaging</td>\n",
              "    </tr>\n",
              "    <tr>\n",
              "      <th>1</th>\n",
              "      <td>10</td>\n",
              "      <td>Significant_Damage_And_Fatalities</td>\n",
              "    </tr>\n",
              "    <tr>\n",
              "      <th>2</th>\n",
              "      <td>14</td>\n",
              "      <td>Significant_Damage_And_Serious_Injuries</td>\n",
              "    </tr>\n",
              "    <tr>\n",
              "      <th>3</th>\n",
              "      <td>17</td>\n",
              "      <td>Highly_Fatal_And_Damaging</td>\n",
              "    </tr>\n",
              "    <tr>\n",
              "      <th>4</th>\n",
              "      <td>21</td>\n",
              "      <td>Significant_Damage_And_Fatalities</td>\n",
              "    </tr>\n",
              "  </tbody>\n",
              "</table>\n",
              "</div>"
            ],
            "text/plain": [
              "   Accident_ID                                 Severity\n",
              "0            1                Highly_Fatal_And_Damaging\n",
              "1           10        Significant_Damage_And_Fatalities\n",
              "2           14  Significant_Damage_And_Serious_Injuries\n",
              "3           17                Highly_Fatal_And_Damaging\n",
              "4           21        Significant_Damage_And_Fatalities"
            ]
          },
          "metadata": {
            "tags": []
          },
          "execution_count": 58
        }
      ]
    },
    {
      "cell_type": "code",
      "metadata": {
        "id": "Cw_xqHkBzf_T",
        "colab_type": "code",
        "colab": {}
      },
      "source": [
        "o2.to_csv('/content/drive/My Drive/airplane/submission2.csv')"
      ],
      "execution_count": 0,
      "outputs": []
    },
    {
      "cell_type": "code",
      "metadata": {
        "id": "6AdwDZAx61UF",
        "colab_type": "code",
        "outputId": "4b21fe4b-821b-4657-c2c6-fbb595c038e9",
        "colab": {
          "base_uri": "https://localhost:8080/",
          "height": 34
        }
      },
      "source": [
        "from sklearn.ensemble import RandomForestClassifier\n",
        "\n",
        "clf = RandomForestClassifier(n_estimators=1000,\n",
        "                             n_jobs=5)\n",
        "\n",
        "\n",
        "\n",
        "clf.fit(xtrain,ytrain)\n",
        "predrf = clf.predict(xvalid)\n",
        "print(accuracy_score(predrf,yvalid,normalize=True))"
      ],
      "execution_count": 0,
      "outputs": [
        {
          "output_type": "stream",
          "text": [
            "0.923\n"
          ],
          "name": "stdout"
        }
      ]
    },
    {
      "cell_type": "code",
      "metadata": {
        "id": "H5OBsgS5Q-xb",
        "colab_type": "code",
        "colab": {}
      },
      "source": [
        "out3 = clf.predict(test)"
      ],
      "execution_count": 0,
      "outputs": []
    },
    {
      "cell_type": "code",
      "metadata": {
        "id": "2kDLBNVpUwAs",
        "colab_type": "code",
        "outputId": "9a071222-cb09-4dbd-922a-b3ef44430b33",
        "colab": {
          "base_uri": "https://localhost:8080/",
          "height": 206
        }
      },
      "source": [
        "out3 = pd.DataFrame(out3)\n",
        "out3.head()"
      ],
      "execution_count": 0,
      "outputs": [
        {
          "output_type": "execute_result",
          "data": {
            "text/html": [
              "<div>\n",
              "<style scoped>\n",
              "    .dataframe tbody tr th:only-of-type {\n",
              "        vertical-align: middle;\n",
              "    }\n",
              "\n",
              "    .dataframe tbody tr th {\n",
              "        vertical-align: top;\n",
              "    }\n",
              "\n",
              "    .dataframe thead th {\n",
              "        text-align: right;\n",
              "    }\n",
              "</style>\n",
              "<table border=\"1\" class=\"dataframe\">\n",
              "  <thead>\n",
              "    <tr style=\"text-align: right;\">\n",
              "      <th></th>\n",
              "      <th>0</th>\n",
              "    </tr>\n",
              "  </thead>\n",
              "  <tbody>\n",
              "    <tr>\n",
              "      <th>0</th>\n",
              "      <td>0</td>\n",
              "    </tr>\n",
              "    <tr>\n",
              "      <th>1</th>\n",
              "      <td>2</td>\n",
              "    </tr>\n",
              "    <tr>\n",
              "      <th>2</th>\n",
              "      <td>3</td>\n",
              "    </tr>\n",
              "    <tr>\n",
              "      <th>3</th>\n",
              "      <td>0</td>\n",
              "    </tr>\n",
              "    <tr>\n",
              "      <th>4</th>\n",
              "      <td>2</td>\n",
              "    </tr>\n",
              "  </tbody>\n",
              "</table>\n",
              "</div>"
            ],
            "text/plain": [
              "   0\n",
              "0  0\n",
              "1  2\n",
              "2  3\n",
              "3  0\n",
              "4  2"
            ]
          },
          "metadata": {
            "tags": []
          },
          "execution_count": 73
        }
      ]
    },
    {
      "cell_type": "code",
      "metadata": {
        "id": "RsxI0ySmUw5J",
        "colab_type": "code",
        "colab": {}
      },
      "source": [
        "out3[0] = out3[0].apply(lambda x : mapdic[x])"
      ],
      "execution_count": 0,
      "outputs": []
    },
    {
      "cell_type": "code",
      "metadata": {
        "id": "rOf2-oLjVEcr",
        "colab_type": "code",
        "colab": {}
      },
      "source": [
        "d3 = {'Accident_ID':tids,'Severity':out3[0]}\n",
        "o3 = pd.DataFrame(d3)"
      ],
      "execution_count": 0,
      "outputs": []
    },
    {
      "cell_type": "code",
      "metadata": {
        "id": "crkSifVyVLJX",
        "colab_type": "code",
        "outputId": "c857b787-6a93-4679-8c38-8e7a77379f28",
        "colab": {
          "base_uri": "https://localhost:8080/",
          "height": 206
        }
      },
      "source": [
        "o3.head()"
      ],
      "execution_count": 0,
      "outputs": [
        {
          "output_type": "execute_result",
          "data": {
            "text/html": [
              "<div>\n",
              "<style scoped>\n",
              "    .dataframe tbody tr th:only-of-type {\n",
              "        vertical-align: middle;\n",
              "    }\n",
              "\n",
              "    .dataframe tbody tr th {\n",
              "        vertical-align: top;\n",
              "    }\n",
              "\n",
              "    .dataframe thead th {\n",
              "        text-align: right;\n",
              "    }\n",
              "</style>\n",
              "<table border=\"1\" class=\"dataframe\">\n",
              "  <thead>\n",
              "    <tr style=\"text-align: right;\">\n",
              "      <th></th>\n",
              "      <th>Accident_ID</th>\n",
              "      <th>Severity</th>\n",
              "    </tr>\n",
              "  </thead>\n",
              "  <tbody>\n",
              "    <tr>\n",
              "      <th>0</th>\n",
              "      <td>1</td>\n",
              "      <td>Highly_Fatal_And_Damaging</td>\n",
              "    </tr>\n",
              "    <tr>\n",
              "      <th>1</th>\n",
              "      <td>10</td>\n",
              "      <td>Significant_Damage_And_Fatalities</td>\n",
              "    </tr>\n",
              "    <tr>\n",
              "      <th>2</th>\n",
              "      <td>14</td>\n",
              "      <td>Significant_Damage_And_Serious_Injuries</td>\n",
              "    </tr>\n",
              "    <tr>\n",
              "      <th>3</th>\n",
              "      <td>17</td>\n",
              "      <td>Highly_Fatal_And_Damaging</td>\n",
              "    </tr>\n",
              "    <tr>\n",
              "      <th>4</th>\n",
              "      <td>21</td>\n",
              "      <td>Significant_Damage_And_Fatalities</td>\n",
              "    </tr>\n",
              "  </tbody>\n",
              "</table>\n",
              "</div>"
            ],
            "text/plain": [
              "   Accident_ID                                 Severity\n",
              "0            1                Highly_Fatal_And_Damaging\n",
              "1           10        Significant_Damage_And_Fatalities\n",
              "2           14  Significant_Damage_And_Serious_Injuries\n",
              "3           17                Highly_Fatal_And_Damaging\n",
              "4           21        Significant_Damage_And_Fatalities"
            ]
          },
          "metadata": {
            "tags": []
          },
          "execution_count": 78
        }
      ]
    },
    {
      "cell_type": "code",
      "metadata": {
        "id": "JIUk_yVTVMX2",
        "colab_type": "code",
        "colab": {}
      },
      "source": [
        "o3.to_csv('/content/drive/My Drive/airplane/submission3.csv')"
      ],
      "execution_count": 0,
      "outputs": []
    },
    {
      "cell_type": "code",
      "metadata": {
        "id": "7mT87YQAVn6K",
        "colab_type": "code",
        "outputId": "92899efb-1216-440c-c250-b10af46e330a",
        "colab": {
          "base_uri": "https://localhost:8080/",
          "height": 34
        }
      },
      "source": [
        "ytrain"
      ],
      "execution_count": 0,
      "outputs": [
        {
          "output_type": "execute_result",
          "data": {
            "text/plain": [
              "array([1, 3, 0, ..., 3, 0, 1])"
            ]
          },
          "metadata": {
            "tags": []
          },
          "execution_count": 80
        }
      ]
    },
    {
      "cell_type": "code",
      "metadata": {
        "id": "SlukaQBEwHhn",
        "colab_type": "code",
        "colab": {}
      },
      "source": [
        "from sklearn.preprocessing import StandardScaler\n",
        "\n",
        "sc = StandardScaler()\n",
        "\n",
        "\n",
        "xtrain = sc.fit_transform(xtrain)"
      ],
      "execution_count": 0,
      "outputs": []
    },
    {
      "cell_type": "code",
      "metadata": {
        "id": "Z_j4demgw8Cm",
        "colab_type": "code",
        "outputId": "72b92c37-e113-4424-9643-d8e5a19ee626",
        "colab": {
          "base_uri": "https://localhost:8080/",
          "height": 243
        }
      },
      "source": [
        "xtrain"
      ],
      "execution_count": 0,
      "outputs": [
        {
          "output_type": "execute_result",
          "data": {
            "text/plain": [
              "array([[-0.69710531,  1.72096061, -0.80165668, ...,  0.2601889 ,\n",
              "        -0.97269409, -0.60660101],\n",
              "       [ 0.3746196 , -0.54122882,  0.34792942, ...,  0.10806358,\n",
              "        -0.01022622, -0.64680693],\n",
              "       [-0.6574118 , -0.25845514,  0.7790242 , ..., -0.9662287 ,\n",
              "        -0.97269409, -0.55714007],\n",
              "       ...,\n",
              "       [-0.64890605,  0.87263957, -0.37056189, ...,  0.04533125,\n",
              "        -0.97269409,  2.44805498],\n",
              "       [-1.41442384,  0.87263957, -0.22686363, ..., -0.18147346,\n",
              "         0.95224165,  2.24768935],\n",
              "       [ 0.43699513,  0.30709222, -0.08316537, ...,  0.68226723,\n",
              "        -1.93516196, -0.59918233]])"
            ]
          },
          "metadata": {
            "tags": []
          },
          "execution_count": 216
        }
      ]
    },
    {
      "cell_type": "code",
      "metadata": {
        "id": "bsXdHaI4XVa5",
        "colab_type": "code",
        "colab": {}
      },
      "source": [
        "ny = np_utils.to_categorical(target)"
      ],
      "execution_count": 0,
      "outputs": []
    },
    {
      "cell_type": "code",
      "metadata": {
        "id": "E0rL3wDyrltn",
        "colab_type": "code",
        "outputId": "06945312-d9c1-44c9-9e62-f46c36938bed",
        "colab": {
          "base_uri": "https://localhost:8080/",
          "height": 139
        }
      },
      "source": [
        "ny"
      ],
      "execution_count": 0,
      "outputs": [
        {
          "output_type": "execute_result",
          "data": {
            "text/plain": [
              "array([[0., 1., 0., 0.],\n",
              "       [0., 1., 0., 0.],\n",
              "       [0., 0., 1., 0.],\n",
              "       ...,\n",
              "       [0., 0., 0., 1.],\n",
              "       [0., 1., 0., 0.],\n",
              "       [1., 0., 0., 0.]], dtype=float32)"
            ]
          },
          "metadata": {
            "tags": []
          },
          "execution_count": 173
        }
      ]
    },
    {
      "cell_type": "code",
      "metadata": {
        "id": "ScK_CAImryWe",
        "colab_type": "code",
        "colab": {}
      },
      "source": [
        "nxtrain,nxvalid,nytrain,nyvalid = train_test_split(df,ny,test_size=0.1,random_state=0)"
      ],
      "execution_count": 0,
      "outputs": []
    },
    {
      "cell_type": "code",
      "metadata": {
        "id": "aZZZkbaW0yGK",
        "colab_type": "code",
        "colab": {}
      },
      "source": [
        "scc = StandardScaler()\n",
        "nxtrain = scc.fit_transform(nxtrain)\n",
        "nxvalid = scc.transform(nxvalid)"
      ],
      "execution_count": 0,
      "outputs": []
    },
    {
      "cell_type": "code",
      "metadata": {
        "id": "On4IUOyks13p",
        "colab_type": "code",
        "outputId": "21076163-23d5-449f-b2b4-552ecdd1ac97",
        "colab": {
          "base_uri": "https://localhost:8080/",
          "height": 1000
        }
      },
      "source": [
        "\n",
        "\n",
        "\n",
        "input_dim = len(df.columns.to_list())\n",
        "\n",
        "nn = Sequential()\n",
        "nn.add(Dense(10,input_dim=input_dim,activation='relu'))\n",
        "nn.add(Dense(100,activation='relu'))\n",
        "nn.add(Dense(75,activation='relu'))\n",
        "nn.add(Dense(60,activation='relu'))\n",
        "nn.add(Dense(50,activation='relu'))\n",
        "nn.add(Dense(38,activation='relu'))\n",
        "nn.add(Dense(25,activation='relu'))\n",
        "nn.add(Dense(15,activation='relu'))\n",
        "nn.add(Dense(8,activation='relu'))\n",
        "nn.add(Dense(4,activation='softmax'))\n",
        "\n",
        "nn.compile(loss = 'categorical_crossentropy' , optimizer = 'adam' , metrics = ['accuracy'] )\n",
        "\n",
        "nn.fit(nxtrain,nytrain,epochs=100,batch_size=5)\n",
        "\n",
        "scores = nn.evaluate(nxvalid,nyvalid)\n",
        "print(\"\\n%s: %.2f%%\" % (nn.metrics_names[1], scores[1]*100))"
      ],
      "execution_count": 0,
      "outputs": [
        {
          "output_type": "stream",
          "text": [
            "Epoch 1/100\n",
            "9000/9000 [==============================] - 6s 655us/step - loss: 0.9365 - acc: 0.5803\n",
            "Epoch 2/100\n",
            "9000/9000 [==============================] - 4s 445us/step - loss: 0.3714 - acc: 0.8603\n",
            "Epoch 3/100\n",
            "9000/9000 [==============================] - 4s 462us/step - loss: 0.2626 - acc: 0.9154\n",
            "Epoch 4/100\n",
            "9000/9000 [==============================] - 4s 492us/step - loss: 0.2438 - acc: 0.9277\n",
            "Epoch 5/100\n",
            "9000/9000 [==============================] - 4s 487us/step - loss: 0.2312 - acc: 0.9277\n",
            "Epoch 6/100\n",
            "9000/9000 [==============================] - 4s 437us/step - loss: 0.2145 - acc: 0.9333\n",
            "Epoch 7/100\n",
            "9000/9000 [==============================] - 4s 440us/step - loss: 0.2108 - acc: 0.9360\n",
            "Epoch 8/100\n",
            "9000/9000 [==============================] - 4s 452us/step - loss: 0.1991 - acc: 0.9373\n",
            "Epoch 9/100\n",
            "9000/9000 [==============================] - 4s 437us/step - loss: 0.2015 - acc: 0.9369\n",
            "Epoch 10/100\n",
            "9000/9000 [==============================] - 4s 426us/step - loss: 0.1942 - acc: 0.9390\n",
            "Epoch 11/100\n",
            "9000/9000 [==============================] - 4s 456us/step - loss: 0.1946 - acc: 0.9389\n",
            "Epoch 12/100\n",
            "9000/9000 [==============================] - 4s 432us/step - loss: 0.1894 - acc: 0.9412\n",
            "Epoch 13/100\n",
            "9000/9000 [==============================] - 4s 428us/step - loss: 0.1866 - acc: 0.9420\n",
            "Epoch 14/100\n",
            "9000/9000 [==============================] - 4s 435us/step - loss: 0.1811 - acc: 0.9419\n",
            "Epoch 15/100\n",
            "9000/9000 [==============================] - 4s 430us/step - loss: 0.1828 - acc: 0.9427\n",
            "Epoch 16/100\n",
            "9000/9000 [==============================] - 4s 427us/step - loss: 0.1768 - acc: 0.9451\n",
            "Epoch 17/100\n",
            "9000/9000 [==============================] - 4s 431us/step - loss: 0.1750 - acc: 0.9438\n",
            "Epoch 18/100\n",
            "9000/9000 [==============================] - 4s 420us/step - loss: 0.1743 - acc: 0.9436\n",
            "Epoch 19/100\n",
            "9000/9000 [==============================] - 4s 430us/step - loss: 0.1667 - acc: 0.9476\n",
            "Epoch 20/100\n",
            "9000/9000 [==============================] - 4s 428us/step - loss: 0.1706 - acc: 0.9440\n",
            "Epoch 21/100\n",
            "9000/9000 [==============================] - 4s 425us/step - loss: 0.1660 - acc: 0.9467\n",
            "Epoch 22/100\n",
            "9000/9000 [==============================] - 4s 436us/step - loss: 0.1678 - acc: 0.9461\n",
            "Epoch 23/100\n",
            "9000/9000 [==============================] - 4s 421us/step - loss: 0.1612 - acc: 0.9486\n",
            "Epoch 24/100\n",
            "9000/9000 [==============================] - 4s 420us/step - loss: 0.1633 - acc: 0.9456\n",
            "Epoch 25/100\n",
            "9000/9000 [==============================] - 4s 428us/step - loss: 0.1581 - acc: 0.9483\n",
            "Epoch 26/100\n",
            "9000/9000 [==============================] - 4s 423us/step - loss: 0.1652 - acc: 0.9469\n",
            "Epoch 27/100\n",
            "9000/9000 [==============================] - 4s 440us/step - loss: 0.1552 - acc: 0.9499\n",
            "Epoch 28/100\n",
            "9000/9000 [==============================] - 4s 435us/step - loss: 0.1527 - acc: 0.9496\n",
            "Epoch 29/100\n",
            "9000/9000 [==============================] - 4s 417us/step - loss: 0.1504 - acc: 0.9497\n",
            "Epoch 30/100\n",
            "9000/9000 [==============================] - 4s 418us/step - loss: 0.1483 - acc: 0.9507\n",
            "Epoch 31/100\n",
            "9000/9000 [==============================] - 4s 436us/step - loss: 0.1488 - acc: 0.9510\n",
            "Epoch 32/100\n",
            "9000/9000 [==============================] - 4s 440us/step - loss: 0.1477 - acc: 0.9523\n",
            "Epoch 33/100\n",
            "9000/9000 [==============================] - 4s 414us/step - loss: 0.1528 - acc: 0.9491\n",
            "Epoch 34/100\n",
            "9000/9000 [==============================] - 4s 425us/step - loss: 0.1435 - acc: 0.9503\n",
            "Epoch 35/100\n",
            "9000/9000 [==============================] - 4s 471us/step - loss: 0.1397 - acc: 0.9527\n",
            "Epoch 36/100\n",
            "9000/9000 [==============================] - 4s 446us/step - loss: 0.1482 - acc: 0.9490\n",
            "Epoch 37/100\n",
            "9000/9000 [==============================] - 4s 433us/step - loss: 0.1418 - acc: 0.9518\n",
            "Epoch 38/100\n",
            "9000/9000 [==============================] - 4s 442us/step - loss: 0.1420 - acc: 0.9504\n",
            "Epoch 39/100\n",
            "9000/9000 [==============================] - 4s 420us/step - loss: 0.1414 - acc: 0.9518\n",
            "Epoch 40/100\n",
            "9000/9000 [==============================] - 4s 448us/step - loss: 0.1375 - acc: 0.9539\n",
            "Epoch 41/100\n",
            "9000/9000 [==============================] - 4s 449us/step - loss: 0.1423 - acc: 0.9522\n",
            "Epoch 42/100\n",
            "9000/9000 [==============================] - 4s 468us/step - loss: 0.1319 - acc: 0.9546\n",
            "Epoch 43/100\n",
            "9000/9000 [==============================] - 4s 448us/step - loss: 0.1385 - acc: 0.9519\n",
            "Epoch 44/100\n",
            "9000/9000 [==============================] - 4s 443us/step - loss: 0.1374 - acc: 0.9551\n",
            "Epoch 45/100\n",
            "9000/9000 [==============================] - 4s 432us/step - loss: 0.1326 - acc: 0.9534\n",
            "Epoch 46/100\n",
            "9000/9000 [==============================] - 4s 451us/step - loss: 0.1336 - acc: 0.9549\n",
            "Epoch 47/100\n",
            "9000/9000 [==============================] - 4s 460us/step - loss: 0.1323 - acc: 0.9536\n",
            "Epoch 48/100\n",
            "9000/9000 [==============================] - 4s 422us/step - loss: 0.1301 - acc: 0.9549\n",
            "Epoch 49/100\n",
            "9000/9000 [==============================] - 4s 448us/step - loss: 0.1347 - acc: 0.9531\n",
            "Epoch 50/100\n",
            "9000/9000 [==============================] - 4s 462us/step - loss: 0.1275 - acc: 0.9569\n",
            "Epoch 51/100\n",
            "9000/9000 [==============================] - 4s 451us/step - loss: 0.1278 - acc: 0.9549\n",
            "Epoch 52/100\n",
            "9000/9000 [==============================] - 4s 461us/step - loss: 0.1245 - acc: 0.9570\n",
            "Epoch 53/100\n",
            "9000/9000 [==============================] - 4s 474us/step - loss: 0.1279 - acc: 0.9569\n",
            "Epoch 54/100\n",
            "9000/9000 [==============================] - 4s 463us/step - loss: 0.1271 - acc: 0.9549\n",
            "Epoch 55/100\n",
            "9000/9000 [==============================] - 4s 464us/step - loss: 0.1282 - acc: 0.9548\n",
            "Epoch 56/100\n",
            "9000/9000 [==============================] - 4s 441us/step - loss: 0.1258 - acc: 0.9567\n",
            "Epoch 57/100\n",
            "9000/9000 [==============================] - 4s 471us/step - loss: 0.1245 - acc: 0.9577\n",
            "Epoch 58/100\n",
            "9000/9000 [==============================] - 4s 445us/step - loss: 0.1217 - acc: 0.9590\n",
            "Epoch 59/100\n",
            "9000/9000 [==============================] - 4s 443us/step - loss: 0.1175 - acc: 0.9588\n",
            "Epoch 60/100\n",
            "9000/9000 [==============================] - 4s 437us/step - loss: 0.1254 - acc: 0.9563\n",
            "Epoch 61/100\n",
            "9000/9000 [==============================] - 4s 451us/step - loss: 0.1241 - acc: 0.9557\n",
            "Epoch 62/100\n",
            "9000/9000 [==============================] - 4s 452us/step - loss: 0.1225 - acc: 0.9576\n",
            "Epoch 63/100\n",
            "9000/9000 [==============================] - 4s 429us/step - loss: 0.1224 - acc: 0.9557\n",
            "Epoch 64/100\n",
            "9000/9000 [==============================] - 4s 442us/step - loss: 0.1127 - acc: 0.9613\n",
            "Epoch 65/100\n",
            "9000/9000 [==============================] - 4s 445us/step - loss: 0.1184 - acc: 0.9592\n",
            "Epoch 66/100\n",
            "9000/9000 [==============================] - 4s 439us/step - loss: 0.1216 - acc: 0.9601\n",
            "Epoch 67/100\n",
            "9000/9000 [==============================] - 4s 440us/step - loss: 0.1130 - acc: 0.9573\n",
            "Epoch 68/100\n",
            "9000/9000 [==============================] - 4s 438us/step - loss: 0.1159 - acc: 0.9593\n",
            "Epoch 69/100\n",
            "9000/9000 [==============================] - 4s 423us/step - loss: 0.1192 - acc: 0.9588\n",
            "Epoch 70/100\n",
            "9000/9000 [==============================] - 4s 440us/step - loss: 0.1228 - acc: 0.9581\n",
            "Epoch 71/100\n",
            "9000/9000 [==============================] - 4s 441us/step - loss: 0.1150 - acc: 0.9601\n",
            "Epoch 72/100\n",
            "9000/9000 [==============================] - 4s 467us/step - loss: 0.1116 - acc: 0.9620\n",
            "Epoch 73/100\n",
            "9000/9000 [==============================] - 4s 458us/step - loss: 0.1145 - acc: 0.9603\n",
            "Epoch 74/100\n",
            "9000/9000 [==============================] - 4s 469us/step - loss: 0.1091 - acc: 0.9624\n",
            "Epoch 75/100\n",
            "9000/9000 [==============================] - 4s 480us/step - loss: 0.1160 - acc: 0.9591\n",
            "Epoch 76/100\n",
            "9000/9000 [==============================] - 4s 446us/step - loss: 0.1091 - acc: 0.9611\n",
            "Epoch 77/100\n",
            "9000/9000 [==============================] - 4s 449us/step - loss: 0.1090 - acc: 0.9597\n",
            "Epoch 78/100\n",
            "9000/9000 [==============================] - 4s 429us/step - loss: 0.1132 - acc: 0.9594\n",
            "Epoch 79/100\n",
            "9000/9000 [==============================] - 4s 443us/step - loss: 0.1117 - acc: 0.9584\n",
            "Epoch 80/100\n",
            "9000/9000 [==============================] - 4s 441us/step - loss: 0.1128 - acc: 0.9607\n",
            "Epoch 81/100\n",
            "9000/9000 [==============================] - 4s 440us/step - loss: 0.1111 - acc: 0.9619\n",
            "Epoch 82/100\n",
            "9000/9000 [==============================] - 4s 469us/step - loss: 0.1113 - acc: 0.9629\n",
            "Epoch 83/100\n",
            "9000/9000 [==============================] - 4s 466us/step - loss: 0.1096 - acc: 0.9622\n",
            "Epoch 84/100\n",
            "9000/9000 [==============================] - 4s 422us/step - loss: 0.1025 - acc: 0.9642\n",
            "Epoch 85/100\n",
            "9000/9000 [==============================] - 4s 431us/step - loss: 0.1043 - acc: 0.9626\n",
            "Epoch 86/100\n",
            "9000/9000 [==============================] - 4s 433us/step - loss: 0.1149 - acc: 0.9598\n",
            "Epoch 87/100\n",
            "9000/9000 [==============================] - 4s 448us/step - loss: 0.1161 - acc: 0.9583\n",
            "Epoch 88/100\n",
            "9000/9000 [==============================] - 4s 434us/step - loss: 0.1017 - acc: 0.9622\n",
            "Epoch 89/100\n",
            "9000/9000 [==============================] - 4s 414us/step - loss: 0.1064 - acc: 0.9632\n",
            "Epoch 90/100\n",
            "9000/9000 [==============================] - 4s 417us/step - loss: 0.1088 - acc: 0.9611\n",
            "Epoch 91/100\n",
            "9000/9000 [==============================] - 4s 437us/step - loss: 0.1034 - acc: 0.9649\n",
            "Epoch 92/100\n",
            "9000/9000 [==============================] - 4s 431us/step - loss: 0.1048 - acc: 0.9609\n",
            "Epoch 93/100\n",
            "9000/9000 [==============================] - 4s 415us/step - loss: 0.0973 - acc: 0.9643\n",
            "Epoch 94/100\n",
            "9000/9000 [==============================] - 4s 422us/step - loss: 0.1038 - acc: 0.9622\n",
            "Epoch 95/100\n",
            "9000/9000 [==============================] - 4s 434us/step - loss: 0.1088 - acc: 0.9629\n",
            "Epoch 96/100\n",
            "9000/9000 [==============================] - 4s 429us/step - loss: 0.1062 - acc: 0.9657\n",
            "Epoch 97/100\n",
            "9000/9000 [==============================] - 4s 426us/step - loss: 0.1057 - acc: 0.9636\n",
            "Epoch 98/100\n",
            "9000/9000 [==============================] - 4s 427us/step - loss: 0.1031 - acc: 0.9646\n",
            "Epoch 99/100\n",
            "9000/9000 [==============================] - 4s 425us/step - loss: 0.0943 - acc: 0.9669\n",
            "Epoch 100/100\n",
            "9000/9000 [==============================] - 4s 433us/step - loss: 0.0998 - acc: 0.9651\n",
            "1000/1000 [==============================] - 1s 682us/step\n",
            "\n",
            "acc: 93.60%\n"
          ],
          "name": "stdout"
        }
      ]
    },
    {
      "cell_type": "code",
      "metadata": {
        "id": "U2rnDxUUvN-5",
        "colab_type": "code",
        "outputId": "e7890296-e98c-4479-bb88-03ad50513df7",
        "colab": {
          "base_uri": "https://localhost:8080/",
          "height": 226
        }
      },
      "source": [
        "test = pd.read_csv('/content/drive/My Drive/airplane/test.csv')\n",
        "\n",
        "test.head()"
      ],
      "execution_count": 0,
      "outputs": [
        {
          "output_type": "execute_result",
          "data": {
            "text/html": [
              "<div>\n",
              "<style scoped>\n",
              "    .dataframe tbody tr th:only-of-type {\n",
              "        vertical-align: middle;\n",
              "    }\n",
              "\n",
              "    .dataframe tbody tr th {\n",
              "        vertical-align: top;\n",
              "    }\n",
              "\n",
              "    .dataframe thead th {\n",
              "        text-align: right;\n",
              "    }\n",
              "</style>\n",
              "<table border=\"1\" class=\"dataframe\">\n",
              "  <thead>\n",
              "    <tr style=\"text-align: right;\">\n",
              "      <th></th>\n",
              "      <th>Safety_Score</th>\n",
              "      <th>Days_Since_Inspection</th>\n",
              "      <th>Total_Safety_Complaints</th>\n",
              "      <th>Control_Metric</th>\n",
              "      <th>Turbulence_In_gforces</th>\n",
              "      <th>Cabin_Temperature</th>\n",
              "      <th>Accident_Type_Code</th>\n",
              "      <th>Max_Elevation</th>\n",
              "      <th>Violations</th>\n",
              "      <th>Adverse_Weather_Metric</th>\n",
              "      <th>Accident_ID</th>\n",
              "    </tr>\n",
              "  </thead>\n",
              "  <tbody>\n",
              "    <tr>\n",
              "      <th>0</th>\n",
              "      <td>19.497717</td>\n",
              "      <td>16</td>\n",
              "      <td>6</td>\n",
              "      <td>72.151322</td>\n",
              "      <td>0.388959</td>\n",
              "      <td>78.32</td>\n",
              "      <td>4</td>\n",
              "      <td>37949.724386</td>\n",
              "      <td>2</td>\n",
              "      <td>0.069692</td>\n",
              "      <td>1</td>\n",
              "    </tr>\n",
              "    <tr>\n",
              "      <th>1</th>\n",
              "      <td>58.173516</td>\n",
              "      <td>15</td>\n",
              "      <td>3</td>\n",
              "      <td>64.585232</td>\n",
              "      <td>0.250841</td>\n",
              "      <td>78.60</td>\n",
              "      <td>7</td>\n",
              "      <td>30194.805567</td>\n",
              "      <td>2</td>\n",
              "      <td>0.002777</td>\n",
              "      <td>10</td>\n",
              "    </tr>\n",
              "    <tr>\n",
              "      <th>2</th>\n",
              "      <td>33.287671</td>\n",
              "      <td>15</td>\n",
              "      <td>3</td>\n",
              "      <td>64.721969</td>\n",
              "      <td>0.336669</td>\n",
              "      <td>86.96</td>\n",
              "      <td>6</td>\n",
              "      <td>17572.925484</td>\n",
              "      <td>1</td>\n",
              "      <td>0.004316</td>\n",
              "      <td>14</td>\n",
              "    </tr>\n",
              "    <tr>\n",
              "      <th>3</th>\n",
              "      <td>3.287671</td>\n",
              "      <td>21</td>\n",
              "      <td>5</td>\n",
              "      <td>66.362808</td>\n",
              "      <td>0.421775</td>\n",
              "      <td>80.86</td>\n",
              "      <td>3</td>\n",
              "      <td>40209.186341</td>\n",
              "      <td>2</td>\n",
              "      <td>0.199990</td>\n",
              "      <td>17</td>\n",
              "    </tr>\n",
              "    <tr>\n",
              "      <th>4</th>\n",
              "      <td>10.867580</td>\n",
              "      <td>18</td>\n",
              "      <td>2</td>\n",
              "      <td>56.107566</td>\n",
              "      <td>0.313228</td>\n",
              "      <td>79.22</td>\n",
              "      <td>2</td>\n",
              "      <td>35495.525408</td>\n",
              "      <td>2</td>\n",
              "      <td>0.483696</td>\n",
              "      <td>21</td>\n",
              "    </tr>\n",
              "  </tbody>\n",
              "</table>\n",
              "</div>"
            ],
            "text/plain": [
              "   Safety_Score  Days_Since_Inspection  ...  Adverse_Weather_Metric  Accident_ID\n",
              "0     19.497717                     16  ...                0.069692            1\n",
              "1     58.173516                     15  ...                0.002777           10\n",
              "2     33.287671                     15  ...                0.004316           14\n",
              "3      3.287671                     21  ...                0.199990           17\n",
              "4     10.867580                     18  ...                0.483696           21\n",
              "\n",
              "[5 rows x 11 columns]"
            ]
          },
          "metadata": {
            "tags": []
          },
          "execution_count": 235
        }
      ]
    },
    {
      "cell_type": "code",
      "metadata": {
        "id": "BN4obOu_9gdN",
        "colab_type": "code",
        "colab": {}
      },
      "source": [
        "test.drop(['Accident_ID'],axis=1,inplace=True)"
      ],
      "execution_count": 0,
      "outputs": []
    },
    {
      "cell_type": "code",
      "metadata": {
        "id": "W2N0tkLF9kws",
        "colab_type": "code",
        "outputId": "b8159e18-6e14-4f72-d9c2-81deb16ff0ba",
        "colab": {
          "base_uri": "https://localhost:8080/",
          "height": 226
        }
      },
      "source": [
        "test.head()"
      ],
      "execution_count": 0,
      "outputs": [
        {
          "output_type": "execute_result",
          "data": {
            "text/html": [
              "<div>\n",
              "<style scoped>\n",
              "    .dataframe tbody tr th:only-of-type {\n",
              "        vertical-align: middle;\n",
              "    }\n",
              "\n",
              "    .dataframe tbody tr th {\n",
              "        vertical-align: top;\n",
              "    }\n",
              "\n",
              "    .dataframe thead th {\n",
              "        text-align: right;\n",
              "    }\n",
              "</style>\n",
              "<table border=\"1\" class=\"dataframe\">\n",
              "  <thead>\n",
              "    <tr style=\"text-align: right;\">\n",
              "      <th></th>\n",
              "      <th>Safety_Score</th>\n",
              "      <th>Days_Since_Inspection</th>\n",
              "      <th>Total_Safety_Complaints</th>\n",
              "      <th>Control_Metric</th>\n",
              "      <th>Turbulence_In_gforces</th>\n",
              "      <th>Cabin_Temperature</th>\n",
              "      <th>Accident_Type_Code</th>\n",
              "      <th>Max_Elevation</th>\n",
              "      <th>Violations</th>\n",
              "      <th>Adverse_Weather_Metric</th>\n",
              "    </tr>\n",
              "  </thead>\n",
              "  <tbody>\n",
              "    <tr>\n",
              "      <th>0</th>\n",
              "      <td>19.497717</td>\n",
              "      <td>16</td>\n",
              "      <td>6</td>\n",
              "      <td>72.151322</td>\n",
              "      <td>0.388959</td>\n",
              "      <td>78.32</td>\n",
              "      <td>4</td>\n",
              "      <td>37949.724386</td>\n",
              "      <td>2</td>\n",
              "      <td>0.069692</td>\n",
              "    </tr>\n",
              "    <tr>\n",
              "      <th>1</th>\n",
              "      <td>58.173516</td>\n",
              "      <td>15</td>\n",
              "      <td>3</td>\n",
              "      <td>64.585232</td>\n",
              "      <td>0.250841</td>\n",
              "      <td>78.60</td>\n",
              "      <td>7</td>\n",
              "      <td>30194.805567</td>\n",
              "      <td>2</td>\n",
              "      <td>0.002777</td>\n",
              "    </tr>\n",
              "    <tr>\n",
              "      <th>2</th>\n",
              "      <td>33.287671</td>\n",
              "      <td>15</td>\n",
              "      <td>3</td>\n",
              "      <td>64.721969</td>\n",
              "      <td>0.336669</td>\n",
              "      <td>86.96</td>\n",
              "      <td>6</td>\n",
              "      <td>17572.925484</td>\n",
              "      <td>1</td>\n",
              "      <td>0.004316</td>\n",
              "    </tr>\n",
              "    <tr>\n",
              "      <th>3</th>\n",
              "      <td>3.287671</td>\n",
              "      <td>21</td>\n",
              "      <td>5</td>\n",
              "      <td>66.362808</td>\n",
              "      <td>0.421775</td>\n",
              "      <td>80.86</td>\n",
              "      <td>3</td>\n",
              "      <td>40209.186341</td>\n",
              "      <td>2</td>\n",
              "      <td>0.199990</td>\n",
              "    </tr>\n",
              "    <tr>\n",
              "      <th>4</th>\n",
              "      <td>10.867580</td>\n",
              "      <td>18</td>\n",
              "      <td>2</td>\n",
              "      <td>56.107566</td>\n",
              "      <td>0.313228</td>\n",
              "      <td>79.22</td>\n",
              "      <td>2</td>\n",
              "      <td>35495.525408</td>\n",
              "      <td>2</td>\n",
              "      <td>0.483696</td>\n",
              "    </tr>\n",
              "  </tbody>\n",
              "</table>\n",
              "</div>"
            ],
            "text/plain": [
              "   Safety_Score  Days_Since_Inspection  ...  Violations  Adverse_Weather_Metric\n",
              "0     19.497717                     16  ...           2                0.069692\n",
              "1     58.173516                     15  ...           2                0.002777\n",
              "2     33.287671                     15  ...           1                0.004316\n",
              "3      3.287671                     21  ...           2                0.199990\n",
              "4     10.867580                     18  ...           2                0.483696\n",
              "\n",
              "[5 rows x 10 columns]"
            ]
          },
          "metadata": {
            "tags": []
          },
          "execution_count": 237
        }
      ]
    },
    {
      "cell_type": "code",
      "metadata": {
        "id": "Uge7x96I-bJL",
        "colab_type": "code",
        "colab": {}
      },
      "source": [
        "nxtest = scc.transform(test)"
      ],
      "execution_count": 0,
      "outputs": []
    },
    {
      "cell_type": "code",
      "metadata": {
        "id": "fNYPyogd-e7k",
        "colab_type": "code",
        "outputId": "32c00f7d-2d41-48fd-b65f-f1df55f4639f",
        "colab": {
          "base_uri": "https://localhost:8080/",
          "height": 243
        }
      },
      "source": [
        "nxtest"
      ],
      "execution_count": 0,
      "outputs": [
        {
          "output_type": "execute_result",
          "data": {
            "text/plain": [
              "array([[-1.38732458,  0.86810876, -0.08043718, ...,  0.63363525,\n",
              "        -0.01135143, -0.48703603],\n",
              "       [ 1.0042925 ,  0.58572554, -0.51194997, ..., -0.18567029,\n",
              "        -0.01135143, -0.66236478],\n",
              "       [-0.53458744,  0.58572554, -0.51194997, ..., -1.51916925,\n",
              "        -0.97515237, -0.65833236],\n",
              "       ...,\n",
              "       [-0.32281497,  0.30334233,  0.4949132 , ...,  0.49907716,\n",
              "        -0.01135143, -0.64703272],\n",
              "       [-0.19857512,  0.02095911,  1.07026359, ..., -0.8178201 ,\n",
              "        -0.97515237, -0.65327511],\n",
              "       [-0.36234583, -0.54380732, -0.79962516, ...,  0.41921074,\n",
              "        -1.93895331, -0.6056862 ]])"
            ]
          },
          "metadata": {
            "tags": []
          },
          "execution_count": 239
        }
      ]
    },
    {
      "cell_type": "code",
      "metadata": {
        "id": "9BB4iPQv-gnc",
        "colab_type": "code",
        "colab": {}
      },
      "source": [
        "predictions = nn.predict_classes(nxtest)\n",
        "prediction_ = np.argmax(to_categorical(predictions), axis = 1)\n",
        "prediction_ = le.inverse_transform(prediction_)"
      ],
      "execution_count": 0,
      "outputs": []
    },
    {
      "cell_type": "code",
      "metadata": {
        "id": "fvL9H2-W-3nO",
        "colab_type": "code",
        "outputId": "a5daebc1-f136-4469-bf0d-7aab68e667ba",
        "colab": {
          "base_uri": "https://localhost:8080/",
          "height": 104
        }
      },
      "source": [
        "prediction_"
      ],
      "execution_count": 0,
      "outputs": [
        {
          "output_type": "execute_result",
          "data": {
            "text/plain": [
              "array(['Highly_Fatal_And_Damaging', 'Significant_Damage_And_Fatalities',\n",
              "       'Significant_Damage_And_Serious_Injuries', ...,\n",
              "       'Significant_Damage_And_Serious_Injuries',\n",
              "       'Significant_Damage_And_Serious_Injuries',\n",
              "       'Highly_Fatal_And_Damaging'], dtype=object)"
            ]
          },
          "metadata": {
            "tags": []
          },
          "execution_count": 241
        }
      ]
    },
    {
      "cell_type": "code",
      "metadata": {
        "id": "R1dhGbRn-5Wd",
        "colab_type": "code",
        "colab": {}
      },
      "source": [
        "d4 = {'Accident_ID':tids,'Severity':prediction_}\n",
        "\n",
        "out4 = pd.DataFrame(d4)"
      ],
      "execution_count": 0,
      "outputs": []
    },
    {
      "cell_type": "code",
      "metadata": {
        "id": "996hNg7I--RA",
        "colab_type": "code",
        "outputId": "eb2b1871-8566-4df6-aa3e-b2277fb137ef",
        "colab": {
          "base_uri": "https://localhost:8080/",
          "height": 424
        }
      },
      "source": [
        "out4"
      ],
      "execution_count": 0,
      "outputs": [
        {
          "output_type": "execute_result",
          "data": {
            "text/html": [
              "<div>\n",
              "<style scoped>\n",
              "    .dataframe tbody tr th:only-of-type {\n",
              "        vertical-align: middle;\n",
              "    }\n",
              "\n",
              "    .dataframe tbody tr th {\n",
              "        vertical-align: top;\n",
              "    }\n",
              "\n",
              "    .dataframe thead th {\n",
              "        text-align: right;\n",
              "    }\n",
              "</style>\n",
              "<table border=\"1\" class=\"dataframe\">\n",
              "  <thead>\n",
              "    <tr style=\"text-align: right;\">\n",
              "      <th></th>\n",
              "      <th>Accident_ID</th>\n",
              "      <th>Severity</th>\n",
              "    </tr>\n",
              "  </thead>\n",
              "  <tbody>\n",
              "    <tr>\n",
              "      <th>0</th>\n",
              "      <td>1</td>\n",
              "      <td>Highly_Fatal_And_Damaging</td>\n",
              "    </tr>\n",
              "    <tr>\n",
              "      <th>1</th>\n",
              "      <td>10</td>\n",
              "      <td>Significant_Damage_And_Fatalities</td>\n",
              "    </tr>\n",
              "    <tr>\n",
              "      <th>2</th>\n",
              "      <td>14</td>\n",
              "      <td>Significant_Damage_And_Serious_Injuries</td>\n",
              "    </tr>\n",
              "    <tr>\n",
              "      <th>3</th>\n",
              "      <td>17</td>\n",
              "      <td>Highly_Fatal_And_Damaging</td>\n",
              "    </tr>\n",
              "    <tr>\n",
              "      <th>4</th>\n",
              "      <td>21</td>\n",
              "      <td>Significant_Damage_And_Fatalities</td>\n",
              "    </tr>\n",
              "    <tr>\n",
              "      <th>...</th>\n",
              "      <td>...</td>\n",
              "      <td>...</td>\n",
              "    </tr>\n",
              "    <tr>\n",
              "      <th>2495</th>\n",
              "      <td>12484</td>\n",
              "      <td>Minor_Damage_And_Injuries</td>\n",
              "    </tr>\n",
              "    <tr>\n",
              "      <th>2496</th>\n",
              "      <td>12487</td>\n",
              "      <td>Significant_Damage_And_Serious_Injuries</td>\n",
              "    </tr>\n",
              "    <tr>\n",
              "      <th>2497</th>\n",
              "      <td>12488</td>\n",
              "      <td>Significant_Damage_And_Serious_Injuries</td>\n",
              "    </tr>\n",
              "    <tr>\n",
              "      <th>2498</th>\n",
              "      <td>12491</td>\n",
              "      <td>Significant_Damage_And_Serious_Injuries</td>\n",
              "    </tr>\n",
              "    <tr>\n",
              "      <th>2499</th>\n",
              "      <td>12493</td>\n",
              "      <td>Highly_Fatal_And_Damaging</td>\n",
              "    </tr>\n",
              "  </tbody>\n",
              "</table>\n",
              "<p>2500 rows × 2 columns</p>\n",
              "</div>"
            ],
            "text/plain": [
              "      Accident_ID                                 Severity\n",
              "0               1                Highly_Fatal_And_Damaging\n",
              "1              10        Significant_Damage_And_Fatalities\n",
              "2              14  Significant_Damage_And_Serious_Injuries\n",
              "3              17                Highly_Fatal_And_Damaging\n",
              "4              21        Significant_Damage_And_Fatalities\n",
              "...           ...                                      ...\n",
              "2495        12484                Minor_Damage_And_Injuries\n",
              "2496        12487  Significant_Damage_And_Serious_Injuries\n",
              "2497        12488  Significant_Damage_And_Serious_Injuries\n",
              "2498        12491  Significant_Damage_And_Serious_Injuries\n",
              "2499        12493                Highly_Fatal_And_Damaging\n",
              "\n",
              "[2500 rows x 2 columns]"
            ]
          },
          "metadata": {
            "tags": []
          },
          "execution_count": 244
        }
      ]
    },
    {
      "cell_type": "code",
      "metadata": {
        "id": "WonMAq0j_Jdp",
        "colab_type": "code",
        "colab": {}
      },
      "source": [
        "out4.to_csv('/content/drive/My Drive/airplane/submission4.csv')\n"
      ],
      "execution_count": 0,
      "outputs": []
    },
    {
      "cell_type": "code",
      "metadata": {
        "id": "8l9Qzb0s_Tez",
        "colab_type": "code",
        "colab": {}
      },
      "source": [
        ""
      ],
      "execution_count": 0,
      "outputs": []
    }
  ]
}